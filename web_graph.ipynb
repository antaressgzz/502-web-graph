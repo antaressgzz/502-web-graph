{
 "cells": [
  {
   "cell_type": "code",
   "execution_count": 1,
   "metadata": {},
   "outputs": [],
   "source": [
    "# import findspark and os and let findspark find all the environment variables\n",
    "import findspark\n",
    "import os\n",
    "findspark.init()\n",
    "\n",
    "\n",
    "# Before you create the SparkSession, you need to add a new environment variable \n",
    "# to tell pyspark where the graphframes library is\n",
    "SUBMIT_ARGS = \"--packages graphframes:graphframes:0.7.0-spark2.4-s_2.11 pyspark-shell\"\n",
    "os.environ[\"PYSPARK_SUBMIT_ARGS\"] = SUBMIT_ARGS\n",
    "\n",
    "import pyspark\n",
    "from pyspark.sql import *\n",
    "from pyspark.sql.functions import udf\n",
    "\n",
    "# Create the SparkSession\n",
    "from pyspark.sql import SparkSession\n",
    "spark = SparkSession.builder.appName(\"graphx-lab\").getOrCreate()\n",
    "\n",
    "# import additional libraries\n",
    "from graphframes import *\n",
    "import hashlib"
   ]
  },
  {
   "cell_type": "code",
   "execution_count": 2,
   "metadata": {},
   "outputs": [],
   "source": [
    "df = spark.read.load(\"test/\",\n",
    "                     format=\"csv\", sep=\"\\t\", inferSchema=\"true\", header=\"false\")"
   ]
  },
  {
   "cell_type": "code",
   "execution_count": 3,
   "metadata": {},
   "outputs": [
    {
     "name": "stdout",
     "output_type": "stream",
     "text": [
      "+---------+----------------+\n",
      "|      _c0|             _c1|\n",
      "+---------+----------------+\n",
      "|000530.cn|   hd.hstong.com|\n",
      "|001001.jp|       i1.wp.com|\n",
      "|001001.jp|       i1.wp.com|\n",
      "|001001.jp|       i0.wp.com|\n",
      "|001001.jp|        yelp.com|\n",
      "|001001.jp|    facebook.com|\n",
      "|001001.jp|     twitter.com|\n",
      "|001001.jp|   instagram.com|\n",
      "|001001.jp|ja.wordpress.org|\n",
      "|002211.cn|   hd.hstong.com|\n",
      "+---------+----------------+\n",
      "only showing top 10 rows\n",
      "\n"
     ]
    }
   ],
   "source": [
    "df.show(10)"
   ]
  },
  {
   "cell_type": "code",
   "execution_count": 8,
   "metadata": {},
   "outputs": [
    {
     "name": "stdout",
     "output_type": "stream",
     "text": [
      "root\n",
      " |-- _c0: string (nullable = true)\n",
      " |-- _c1: string (nullable = true)\n",
      "\n"
     ]
    }
   ],
   "source": [
    "df.printSchema()"
   ]
  },
  {
   "cell_type": "code",
   "execution_count": 26,
   "metadata": {},
   "outputs": [
    {
     "data": {
      "text/plain": [
       "320044"
      ]
     },
     "execution_count": 26,
     "metadata": {},
     "output_type": "execute_result"
    }
   ],
   "source": [
    "df.count()"
   ]
  },
  {
   "cell_type": "code",
   "execution_count": 4,
   "metadata": {},
   "outputs": [],
   "source": [
    "df = df.withColumnRenamed('_c0', 'parentTLD').withColumnRenamed('_c1', 'childTLD').filter(\"parentTLD is not null and childTLD is not null\")"
   ]
  },
  {
   "cell_type": "code",
   "execution_count": 5,
   "metadata": {},
   "outputs": [
    {
     "name": "stdout",
     "output_type": "stream",
     "text": [
      "+--------------+--------------------+\n",
      "|     parentTLD|            childTLD|\n",
      "+--------------+--------------------+\n",
      "|    alatest.it|       r6.kelkoo.com|\n",
      "|  aldilife.com|webgate.ec.europa.eu|\n",
      "|algarserra.com|        google.co.uk|\n",
      "|     amcham.lv|         twitter.com|\n",
      "|androidblog.ch|         mobiflip.de|\n",
      "+--------------+--------------------+\n",
      "only showing top 5 rows\n",
      "\n"
     ]
    }
   ],
   "source": [
    "df = df.drop_duplicates()\n",
    "df.show(5)"
   ]
  },
  {
   "cell_type": "code",
   "execution_count": 17,
   "metadata": {},
   "outputs": [
    {
     "name": "stdout",
     "output_type": "stream",
     "text": [
      "159549\n"
     ]
    },
    {
     "data": {
      "text/plain": [
       "['나로.한국',\n",
       " '節約主婦ブログ.jp',\n",
       " '立会外分売.jp',\n",
       " '海外fx比較.top',\n",
       " '朝ドラまとめ速報.com',\n",
       " '中秋ＤＭ.jpg',\n",
       " '中国模具.mobi',\n",
       " 'ココマイスターwebカタログ.jp',\n",
       " '⑤feedly.com',\n",
       " 'پوزیشنر.ghorfe24.com']"
      ]
     },
     "execution_count": 17,
     "metadata": {},
     "output_type": "execute_result"
    }
   ],
   "source": [
    "# aggcodes = df.select(\"parentTLD\",\"childTLD\").rdd.flatMap(lambda x: x).distinct()\n",
    "print(aggcodes.count())\n",
    "aggcodes.top(10)"
   ]
  },
  {
   "cell_type": "code",
   "execution_count": 7,
   "metadata": {},
   "outputs": [],
   "source": [
    "def hashnode(x):\n",
    "    return hashlib.sha1(x.encode(\"UTF-8\")).hexdigest()[:8]\n",
    "\n",
    "hashnode_udf = udf(hashnode)"
   ]
  },
  {
   "cell_type": "code",
   "execution_count": 8,
   "metadata": {},
   "outputs": [
    {
     "name": "stdout",
     "output_type": "stream",
     "text": [
      "+--------+-----------------+\n",
      "|      id|             name|\n",
      "+--------+-----------------+\n",
      "|78407e3b|gratiskryssord.no|\n",
      "|465806fb|      twitter.com|\n",
      "|06252e37|    instagram.com|\n",
      "|86850682|       bitpay.com|\n",
      "|ee665830|       inpress.fr|\n",
      "+--------+-----------------+\n",
      "only showing top 5 rows\n",
      "\n"
     ]
    }
   ],
   "source": [
    "vertices = aggcodes.map(lambda x: (hashnode(x), x)).toDF([\"id\",\"name\"])\n",
    "\n",
    "vertices.show(5)"
   ]
  },
  {
   "cell_type": "code",
   "execution_count": 9,
   "metadata": {},
   "outputs": [
    {
     "name": "stdout",
     "output_type": "stream",
     "text": [
      "+--------+--------+\n",
      "|     src|     dst|\n",
      "+--------+--------+\n",
      "|3b12f9b8|149b84dc|\n",
      "|8d116c83|4cb3ed47|\n",
      "|f502c192|89c0c16b|\n",
      "|86ff2a90|465806fb|\n",
      "|b7581c64|b0b83807|\n",
      "+--------+--------+\n",
      "only showing top 5 rows\n",
      "\n"
     ]
    }
   ],
   "source": [
    "edges = df.select(\"parentTLD\",\"childTLD\")\\\n",
    ".withColumn(\"src\", hashnode_udf(\"parentTLD\"))\\\n",
    ".withColumn(\"dst\", hashnode_udf(\"childTLD\"))\\\n",
    ".select(\"src\",\"dst\")\n",
    "\n",
    "edges.show(5)"
   ]
  },
  {
   "cell_type": "code",
   "execution_count": 10,
   "metadata": {},
   "outputs": [],
   "source": [
    "graph = GraphFrame(vertices, edges)"
   ]
  },
  {
   "cell_type": "code",
   "execution_count": 23,
   "metadata": {},
   "outputs": [
    {
     "name": "stdout",
     "output_type": "stream",
     "text": [
      "+--------+--------------------+\n",
      "|      id|                name|\n",
      "+--------+--------------------+\n",
      "|0fde1b8b|       wcsbradio.com|\n",
      "|465806fb|         twitter.com|\n",
      "|3ab76dbd|    llmu.tt-donau.de|\n",
      "|f75c4fbc|mixetterempizzeri...|\n",
      "|9df4f83c|carbonoffsetlist.org|\n",
      "+--------+--------------------+\n",
      "only showing top 5 rows\n",
      "\n",
      "+--------+--------+\n",
      "|     src|     dst|\n",
      "+--------+--------+\n",
      "|3b12f9b8|149b84dc|\n",
      "|8d116c83|4cb3ed47|\n",
      "|f502c192|89c0c16b|\n",
      "|86ff2a90|465806fb|\n",
      "|b7581c64|b0b83807|\n",
      "+--------+--------+\n",
      "only showing top 5 rows\n",
      "\n"
     ]
    }
   ],
   "source": [
    "graph.vertices.show(5)\n",
    "graph.edges.show(5)"
   ]
  },
  {
   "cell_type": "code",
   "execution_count": 22,
   "metadata": {},
   "outputs": [
    {
     "name": "stdout",
     "output_type": "stream",
     "text": [
      "+--------+--------+--------------------+\n",
      "|id      |inDegree|name                |\n",
      "+--------+--------+--------------------+\n",
      "|b7c70898|16105   |facebook.com        |\n",
      "|465806fb|12063   |twitter.com         |\n",
      "|d7e222c8|6986    |youtube.com         |\n",
      "|06252e37|6813    |instagram.com       |\n",
      "|4fa6d5a6|3118    |googletagmanager.com|\n",
      "|1b274516|3045    |linkedin.com        |\n",
      "|9b319411|2361    |plus.google.com     |\n",
      "|bc565513|2187    |wordpress.org       |\n",
      "|d84f4904|1907    |pinterest.com       |\n",
      "|baea954b|1547    |google.com          |\n",
      "|4894387e|1249    |vk.com              |\n",
      "|c43b840d|949     |play.google.com     |\n",
      "|dffd1f8f|769     |itunes.apple.com    |\n",
      "|855621f6|732     |creativecommons.org |\n",
      "|ef80a3c5|719     |mc.yandex.ru        |\n",
      "|50ed7453|654     |goo.gl              |\n",
      "|903fe3e1|640     |bit.ly              |\n",
      "|5bff5e76|583     |secure.gravatar.com |\n",
      "|e05a3223|541     |beian.miit.gov.cn   |\n",
      "|f18e2083|503     |t.me                |\n",
      "+--------+--------+--------------------+\n",
      "only showing top 20 rows\n",
      "\n",
      "+--------+---------+---------------------------+\n",
      "|id      |outDegree|name                       |\n",
      "+--------+---------+---------------------------+\n",
      "|00c289ff|2085     |9vke.bjjhkm.cn             |\n",
      "|c4515594|1608     |waterdamagerepairus.com    |\n",
      "|5cd7022a|1028     |qbhx84skus.mihanblog.com   |\n",
      "|85bd3072|973      |pfblog.com                 |\n",
      "|ff17b4f8|913      |qdyuwang.cn                |\n",
      "|73539870|895      |beautifulmind.clinic       |\n",
      "|b2cbabd5|882      |androidtechgurus.com       |\n",
      "|db925769|725      |nice820703.pixnet.net      |\n",
      "|50652bf4|628      |duktusdigital.de           |\n",
      "|84ef6fcb|621      |subiektywnieoksiazkach.pl  |\n",
      "|4246504f|614      |holething.com              |\n",
      "|c49447bd|527      |mnpcppon047486.pixnet.net  |\n",
      "|8eb560ba|482      |healthblender.ga           |\n",
      "|01e375a2|468      |blog.guillotine-therapy.fr |\n",
      "|7b9fc7ea|434      |isistheband.com            |\n",
      "|6591047d|419      |estadosentido.blogs.sapo.pt|\n",
      "|d450c387|414      |messydirtyhair.com         |\n",
      "|82335e88|408      |nm54nmcybu.pixnet.net      |\n",
      "|fda1ce8c|407      |johanengbergsantik.com     |\n",
      "|77168f59|399      |centrosviluppoprogetti.it  |\n",
      "+--------+---------+---------------------------+\n",
      "only showing top 20 rows\n",
      "\n"
     ]
    }
   ],
   "source": [
    "graph.inDegrees.join(vertices, on=\"id\")\\\n",
    ".orderBy(\"inDegree\", ascending=False).show(20, False)\n",
    "graph.outDegrees.join(vertices, on=\"id\")\\\n",
    ".orderBy(\"outDegree\", ascending=False).show(20, False)"
   ]
  },
  {
   "cell_type": "code",
   "execution_count": 16,
   "metadata": {},
   "outputs": [],
   "source": [
    "spark.stop()"
   ]
  },
  {
   "cell_type": "code",
   "execution_count": null,
   "metadata": {},
   "outputs": [],
   "source": []
  }
 ],
 "metadata": {
  "kernelspec": {
   "display_name": "Python 3",
   "language": "python",
   "name": "python3"
  },
  "language_info": {
   "codemirror_mode": {
    "name": "ipython",
    "version": 3
   },
   "file_extension": ".py",
   "mimetype": "text/x-python",
   "name": "python",
   "nbconvert_exporter": "python",
   "pygments_lexer": "ipython3",
   "version": "3.7.6"
  }
 },
 "nbformat": 4,
 "nbformat_minor": 4
}
