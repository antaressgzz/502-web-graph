{
 "cells": [
  {
   "cell_type": "code",
   "execution_count": 1,
   "metadata": {},
   "outputs": [],
   "source": [
    "# import findspark and os and let findspark find all the environment variables\n",
    "import findspark\n",
    "import os\n",
    "findspark.init()\n",
    "\n",
    "\n",
    "# Before you create the SparkSession, you need to add a new environment variable \n",
    "# to tell pyspark where the graphframes library is\n",
    "SUBMIT_ARGS = \"--packages graphframes:graphframes:0.7.0-spark2.4-s_2.11 pyspark-shell\"\n",
    "os.environ[\"PYSPARK_SUBMIT_ARGS\"] = SUBMIT_ARGS\n",
    "\n",
    "import pyspark\n",
    "from pyspark.sql import *\n",
    "from pyspark.sql.functions import udf\n",
    "\n",
    "# Create the SparkSession\n",
    "from pyspark.sql import SparkSession\n",
    "spark = SparkSession.builder.appName(\"graphx-lab\").getOrCreate()\n",
    "\n",
    "# import additional libraries\n",
    "from graphframes import *\n",
    "import hashlib"
   ]
  },
  {
   "cell_type": "code",
   "execution_count": 2,
   "metadata": {},
   "outputs": [],
   "source": [
    "sc = spark.sparkContext \n",
    "sc.setCheckpointDir('.')"
   ]
  },
  {
   "cell_type": "code",
   "execution_count": 9,
   "metadata": {},
   "outputs": [],
   "source": [
    "df = spark.read.load([\"test/part-00000\",\"test/part-00001\"],\n",
    "                     format=\"csv\", sep=\"\\t\", inferSchema=\"true\", header=\"false\")"
   ]
  },
  {
   "cell_type": "code",
   "execution_count": 41,
   "metadata": {},
   "outputs": [
    {
     "data": {
      "text/plain": [
       "[['test/part-00000', 'test/part-00001'],\n",
       " ['test/part-00000', 'test/part-00001', 'test/part-00002', 'test/part-00003'],\n",
       " ['test/part-00000',\n",
       "  'test/part-00001',\n",
       "  'test/part-00002',\n",
       "  'test/part-00003',\n",
       "  'test/part-00004',\n",
       "  'test/part-00005'],\n",
       " ['test/part-00000',\n",
       "  'test/part-00001',\n",
       "  'test/part-00002',\n",
       "  'test/part-00003',\n",
       "  'test/part-00004',\n",
       "  'test/part-00005',\n",
       "  'test/part-00006',\n",
       "  'test/part-00007']]"
      ]
     },
     "execution_count": 41,
     "metadata": {},
     "output_type": "execute_result"
    }
   ],
   "source": [
    "path_list('test', [2,4,6,8])"
   ]
  },
  {
   "cell_type": "code",
   "execution_count": 29,
   "metadata": {},
   "outputs": [],
   "source": [
    "def hashnode(x):\n",
    "    return hashlib.sha1(x.encode(\"UTF-8\")).hexdigest()[:8]\n",
    "\n",
    "hashnode_udf = udf(hashnode)\n",
    "\n",
    "def path_list(path, size):\n",
    "    ps = []\n",
    "    for s in size:\n",
    "        ps.append([path+'/part-'+str(i).zfill(5) for i in range(s)])\n",
    "#     print(ps)\n",
    "    return ps\n",
    "\n",
    "def build_graph(df):\n",
    "    df = df.withColumnRenamed('_c0', 'parentTLD').withColumnRenamed('_c1', 'childTLD').filter(\"parentTLD is not null and childTLD is not null\")\n",
    "    df = df.drop_duplicates()\n",
    "    aggcodes = df.select(\"parentTLD\",\"childTLD\").rdd.flatMap(lambda x: x).distinct()\n",
    "    vertices = aggcodes.map(lambda x: (hashnode(x), x)).toDF([\"id\",\"name\"])\n",
    "    edges = df.select(\"parentTLD\",\"childTLD\")\\\n",
    "    .withColumn(\"src\", hashnode_udf(\"parentTLD\"))\\\n",
    "    .withColumn(\"dst\", hashnode_udf(\"childTLD\")).select(\"src\",\"dst\")\n",
    "#     print(edges.count())\n",
    "#     print(vertices.count())\n",
    "    return GraphFrame(vertices, edges), vertices, edges\n",
    "\n",
    "\n",
    "def density(path='test', size=[1,2,4,8]):\n",
    "    dens = []\n",
    "    for l in path_list(path, size):\n",
    "        df = spark.read.load(l,format=\"csv\", sep=\"\\t\", inferSchema=\"true\", header=\"false\")\n",
    "        graph,vertices,edges  = build_graph(df)\n",
    "        \n",
    "        n_v = vertices.count()\n",
    "        n_e = edges.count()\n",
    "        \n",
    "        dens.append(n_e / (n_v*(n_v-1)))\n",
    "    return dens"
   ]
  },
  {
   "cell_type": "code",
   "execution_count": 43,
   "metadata": {},
   "outputs": [
    {
     "data": {
      "text/plain": [
       "[1.6005258989577336e-05, 9.490307338509154e-06]"
      ]
     },
     "execution_count": 43,
     "metadata": {},
     "output_type": "execute_result"
    }
   ],
   "source": [
    "density('test', [1,2])"
   ]
  },
  {
   "cell_type": "code",
   "execution_count": 39,
   "metadata": {},
   "outputs": [
    {
     "name": "stdout",
     "output_type": "stream",
     "text": [
      "+--------+--------------------+-------------+\n",
      "|      id|                name|        label|\n",
      "+--------+--------------------+-------------+\n",
      "|0738ebbe|   moritzlaw.osu.edu|1142461301062|\n",
      "|09976f76|cookingonabootstr...|1357209666145|\n",
      "|9d3f3877|d301l49b0xhsa2.cl...| 747324310219|\n",
      "|179fbf80|    logi103.xiti.com|  17179869532|\n",
      "|766cca87|  statistics.bczp.cn|1262720385652|\n",
      "+--------+--------------------+-------------+\n",
      "only showing top 5 rows\n",
      "\n"
     ]
    },
    {
     "data": {
      "text/plain": [
       "DataFrame[id: string, name: string]"
      ]
     },
     "execution_count": 39,
     "metadata": {},
     "output_type": "execute_result"
    }
   ],
   "source": [
    "# graph,vertices,edges  = build_graph(df)\n",
    "# result = graph.labelPropagation(maxIter=5)\n",
    "# result.cache()\n",
    "result.show(5)\n",
    "# result.groupby('label').count().orderBy(\"count\", ascending=False).show()\n",
    "print(result.dropDuplicates(['label']).count())\n",
    "vertices.distinct().count()"
   ]
  },
  {
   "cell_type": "code",
   "execution_count": null,
   "metadata": {},
   "outputs": [],
   "source": [
    "def indegree(dataframe, website=['twitter.com'], sizes=[1,2,3]):\n",
    "    '''input: dataframe, list: websites tlds; list: number of files\n",
    "       output: dataframe\n",
    "+------------+--------+---------------------------+\n",
    "|website     |size_1  |sizs_2    |sizse_3             |\n",
    "+------------+--------+---------------------------+\n",
    "|twitter.com |1       | 100      |\n",
    "|05f4dd35    |1       |          |\n",
    "|033e4ad5    |1       |          |\n",
    "|00615816    |1       |          |\n",
    "|034274db    |1       |          |\n",
    "+-------------+--------+---------------------------+\n",
    "    '''\n",
    "    return None"
   ]
  },
  {
   "cell_type": "code",
   "execution_count": null,
   "metadata": {},
   "outputs": [],
   "source": [
    "indegree([2,4,8,16,32,64,128,256,512,1024])"
   ]
  },
  {
   "cell_type": "code",
   "execution_count": null,
   "metadata": {},
   "outputs": [],
   "source": [
    "indegree_df = indegree(df, ['twitter.com', 'baidu,com', 'google'], [2,4,8,16])\n",
    "indegree_df.show()"
   ]
  },
  {
   "cell_type": "code",
   "execution_count": null,
   "metadata": {},
   "outputs": [],
   "source": [
    "def outdegree(dataframe, website=['twitter.com'], sizes=[1,2,3]):\n",
    "    '''input: dataframe, list: websites tlds; list: number of files\n",
    "       output: dataframe\n",
    "+------------+--------+---------------------------+\n",
    "|website     |size_1  |sizs_2    |  sizse_3             |\n",
    "+------------+--------+---------------------------+\n",
    "|twitter.com |1       | 100      |\n",
    "|05f4dd35    |1       |          |\n",
    "|033e4ad5    |1       |          |\n",
    "|00615816    |1       |          |\n",
    "|034274db    |1       |          |\n",
    "+------------+--------+---------------------------+\n",
    "    '''\n",
    "    return None"
   ]
  },
  {
   "cell_type": "code",
   "execution_count": null,
   "metadata": {},
   "outputs": [],
   "source": [
    "def connected_components(dataframe, sizes=[1,2,3]):\n",
    "    '''input: dataframe, list: number of files\n",
    "       output: dataframe\n",
    "+------------+--------+---------------------------+\n",
    "|size        |number of componemts  |sizs_2    |  sizse_3             |\n",
    "+------------+--------+---------------------------+\n",
    "|1           |1                     | 100      |\n",
    "|2           |1                     |          |\n",
    "|3           |1                     |          |\n",
    "\n",
    "    '''\n",
    "    return None"
   ]
  },
  {
   "cell_type": "code",
   "execution_count": null,
   "metadata": {},
   "outputs": [],
   "source": [
    "def analyze_graph(path='test', size=[2,4,8,16]):\n",
    "    d = {}\n",
    "    \n",
    "    d['indeg_df']  = indegree(size=size)\n",
    "    d['ourdeg_df'] = outdegree(size=size)\n",
    "    d['cc'] = connected_components(size=size)\n",
    "    \n",
    "    return d"
   ]
  },
  {
   "cell_type": "code",
   "execution_count": 6,
   "metadata": {},
   "outputs": [
    {
     "data": {
      "text/plain": [
       "DataFrame[_c0: string, _c1: string]"
      ]
     },
     "execution_count": 6,
     "metadata": {},
     "output_type": "execute_result"
    }
   ],
   "source": [
    "df.cache()"
   ]
  },
  {
   "cell_type": "code",
   "execution_count": 4,
   "metadata": {},
   "outputs": [
    {
     "name": "stdout",
     "output_type": "stream",
     "text": [
      "+---------+-----------------+\n",
      "|      _c0|              _c1|\n",
      "+---------+-----------------+\n",
      "|002104.cn|    hd.hstong.com|\n",
      "|002104.cn|   stock.stcn.com|\n",
      "|002104.cn|  upload.stcn.com|\n",
      "|002104.cn|  upload.stcn.com|\n",
      "|002104.cn|  upload.stcn.com|\n",
      "|002104.cn|  upload.stcn.com|\n",
      "|002446.cn|    hd.hstong.com|\n",
      "|003145.cn|qile.qiquting.com|\n",
      "|003145.cn|qile.qiquting.com|\n",
      "|003991.cn|qile.qiquting.com|\n",
      "+---------+-----------------+\n",
      "only showing top 10 rows\n",
      "\n"
     ]
    }
   ],
   "source": [
    "df.show(10)"
   ]
  },
  {
   "cell_type": "code",
   "execution_count": 8,
   "metadata": {},
   "outputs": [
    {
     "name": "stdout",
     "output_type": "stream",
     "text": [
      "root\n",
      " |-- _c0: string (nullable = true)\n",
      " |-- _c1: string (nullable = true)\n",
      "\n"
     ]
    }
   ],
   "source": [
    "df.printSchema()"
   ]
  },
  {
   "cell_type": "code",
   "execution_count": 7,
   "metadata": {},
   "outputs": [
    {
     "data": {
      "text/plain": [
       "3678351"
      ]
     },
     "execution_count": 7,
     "metadata": {},
     "output_type": "execute_result"
    }
   ],
   "source": [
    "df.count()"
   ]
  },
  {
   "cell_type": "code",
   "execution_count": 8,
   "metadata": {},
   "outputs": [],
   "source": []
  },
  {
   "cell_type": "code",
   "execution_count": 9,
   "metadata": {},
   "outputs": [
    {
     "name": "stdout",
     "output_type": "stream",
     "text": [
      "+---------------+------------------+\n",
      "|      parentTLD|          childTLD|\n",
      "+---------------+------------------+\n",
      "|24hourebook.com|       jlsl.gov.cn|\n",
      "|   350.xn--p1ai|   connect.mail.ru|\n",
      "|   350.xn--p1ai|zakladki.yandex.ru|\n",
      "|        363v.cn|      pk105555.com|\n",
      "|      87nara.kr|       iampine.com|\n",
      "+---------------+------------------+\n",
      "only showing top 5 rows\n",
      "\n"
     ]
    }
   ],
   "source": [
    "\n",
    "df.show(5)"
   ]
  },
  {
   "cell_type": "code",
   "execution_count": 16,
   "metadata": {},
   "outputs": [
    {
     "data": {
      "text/plain": [
       "904373"
      ]
     },
     "execution_count": 16,
     "metadata": {},
     "output_type": "execute_result"
    }
   ],
   "source": [
    "df.count()"
   ]
  },
  {
   "cell_type": "code",
   "execution_count": 13,
   "metadata": {},
   "outputs": [
    {
     "data": {
      "text/plain": [
       "['바로잡기.com',\n",
       " '무지안내.net',\n",
       " '맥가이버피아노.com',\n",
       " '라포끌레르.kr',\n",
       " '더풋샵.net',\n",
       " '나로.한국',\n",
       " '강원곳간.com',\n",
       " '非常靠谱.com',\n",
       " '陕西文化网.中国',\n",
       " '陕西文化网.com']"
      ]
     },
     "execution_count": 13,
     "metadata": {},
     "output_type": "execute_result"
    }
   ],
   "source": [
    "\n",
    "print(aggcodes.count())\n",
    "aggcodes.top(10)"
   ]
  },
  {
   "cell_type": "code",
   "execution_count": 14,
   "metadata": {},
   "outputs": [],
   "source": []
  },
  {
   "cell_type": "code",
   "execution_count": 15,
   "metadata": {},
   "outputs": [
    {
     "name": "stdout",
     "output_type": "stream",
     "text": [
      "+--------+--------------------+\n",
      "|      id|                name|\n",
      "+--------+--------------------+\n",
      "|64810973|img514.imageshack.us|\n",
      "|465806fb|         twitter.com|\n",
      "|247e1a71|  beautifulshoes.org|\n",
      "|5584fcd3|guccihandbagsoutl...|\n",
      "|09651082|       bufengcong.cn|\n",
      "+--------+--------------------+\n",
      "only showing top 5 rows\n",
      "\n"
     ]
    }
   ],
   "source": []
  },
  {
   "cell_type": "code",
   "execution_count": 18,
   "metadata": {},
   "outputs": [
    {
     "name": "stdout",
     "output_type": "stream",
     "text": [
      "+--------+--------+\n",
      "|     src|     dst|\n",
      "+--------+--------+\n",
      "|a955fc5f|ec156376|\n",
      "|2b778455|b1045852|\n",
      "|2b778455|a49aa74f|\n",
      "|e8b6308e|ebd38990|\n",
      "|b0451246|3fcdbfdc|\n",
      "+--------+--------+\n",
      "only showing top 5 rows\n",
      "\n"
     ]
    }
   ],
   "source": [
    "\n",
    "\n",
    "edges.show(5)"
   ]
  },
  {
   "cell_type": "code",
   "execution_count": 19,
   "metadata": {},
   "outputs": [],
   "source": []
  },
  {
   "cell_type": "code",
   "execution_count": 20,
   "metadata": {},
   "outputs": [
    {
     "name": "stdout",
     "output_type": "stream",
     "text": [
      "+--------+--------------------+\n",
      "|      id|                name|\n",
      "+--------+--------------------+\n",
      "|64810973|img514.imageshack.us|\n",
      "|465806fb|         twitter.com|\n",
      "|247e1a71|  beautifulshoes.org|\n",
      "|5584fcd3|guccihandbagsoutl...|\n",
      "|09651082|       bufengcong.cn|\n",
      "+--------+--------------------+\n",
      "only showing top 5 rows\n",
      "\n",
      "+--------+--------+\n",
      "|     src|     dst|\n",
      "+--------+--------+\n",
      "|a955fc5f|ec156376|\n",
      "|2b778455|b1045852|\n",
      "|2b778455|a49aa74f|\n",
      "|e8b6308e|ebd38990|\n",
      "|b0451246|3fcdbfdc|\n",
      "+--------+--------+\n",
      "only showing top 5 rows\n",
      "\n"
     ]
    }
   ],
   "source": [
    "graph.vertices.show(5)\n",
    "graph.edges.show(5)"
   ]
  },
  {
   "cell_type": "code",
   "execution_count": 22,
   "metadata": {},
   "outputs": [
    {
     "name": "stdout",
     "output_type": "stream",
     "text": [
      "+--------+--------+---------------------------+\n",
      "|id      |inDegree|name                       |\n",
      "+--------+--------+---------------------------+\n",
      "|03111be4|1       |bigjeans.co.kr             |\n",
      "|05f4dd35|1       |kitp.ucsb.edu              |\n",
      "|033e4ad5|1       |livefutbol.com             |\n",
      "|00615816|1       |weekendhotel.blog          |\n",
      "|034274db|1       |vusurscene.com             |\n",
      "|0088f064|1       |topfreizeit.de             |\n",
      "|035a0f78|1       |donemd.cn                  |\n",
      "|00ade0f6|1       |printshop.co.kr            |\n",
      "|05d51afe|1       |ehiln67n99.353qt.cn        |\n",
      "|0380adbc|1       |kaatru.in                  |\n",
      "|00bf6f09|1       |hg8868fdzs71.cn.com        |\n",
      "|03ac6afd|1       |nmyk.kingdns.in            |\n",
      "|0133f1a7|1       |qualitywellnessresorts.nl  |\n",
      "|03fdc338|1       |sarquest.ru                |\n",
      "|01804c23|1       |dosenhor.com               |\n",
      "|0404cf3e|1       |167.114.119.122:9676       |\n",
      "|019a4650|1       |silkroomthailand.com       |\n",
      "|04128bf0|1       |openparachute.wordpress.com|\n",
      "|0248f651|1       |koppertbio.de              |\n",
      "|044e6432|1       |cermi.eu                   |\n",
      "+--------+--------+---------------------------+\n",
      "only showing top 20 rows\n",
      "\n"
     ]
    }
   ],
   "source": [
    "graph.inDegrees.join(vertices, on=\"id\")\\\n",
    ".orderBy(\"inDegree\", ascending=False).show(20, False)\n",
    "graph.outDegrees.join(vertices, on=\"id\")\\\n",
    ".orderBy(\"outDegree\", ascending=False).show(20, False)"
   ]
  },
  {
   "cell_type": "code",
   "execution_count": 35,
   "metadata": {},
   "outputs": [
    {
     "name": "stdout",
     "output_type": "stream",
     "text": [
      "+-----------+------+\n",
      "|  component| count|\n",
      "+-----------+------+\n",
      "|          0|459137|\n",
      "|        116|  3499|\n",
      "|       1064|   982|\n",
      "|         75|   622|\n",
      "|       1387|   519|\n",
      "|        732|   451|\n",
      "|        339|   335|\n",
      "|       2349|   308|\n",
      "|       1238|   277|\n",
      "|        184|   244|\n",
      "|        516|   241|\n",
      "| 8589936039|   239|\n",
      "|        856|   228|\n",
      "|       2061|   226|\n",
      "|       2398|   226|\n",
      "|       1301|   180|\n",
      "| 8589934891|   178|\n",
      "|       2506|   172|\n",
      "|       1666|   168|\n",
      "|34359739686|   135|\n",
      "+-----------+------+\n",
      "only showing top 20 rows\n",
      "\n"
     ]
    }
   ],
   "source": [
    "# result = graph.connectedComponents()\n",
    "result.select(\"id\", \"component\").groupby('component').count().orderBy(\"count\", ascending=False).show()"
   ]
  },
  {
   "cell_type": "code",
   "execution_count": null,
   "metadata": {},
   "outputs": [],
   "source": []
  },
  {
   "cell_type": "code",
   "execution_count": 36,
   "metadata": {},
   "outputs": [
    {
     "name": "stdout",
     "output_type": "stream",
     "text": [
      "+--------+---------+\n",
      "|      id|component|\n",
      "+--------+---------+\n",
      "|002c9569|        0|\n",
      "|008c2d9c|        1|\n",
      "|00927e3f|        2|\n",
      "|00947a5b|        3|\n",
      "|00acfdcd|        4|\n",
      "|00ad5293|        5|\n",
      "|00c6dae1|        6|\n",
      "|00d7cab4|        7|\n",
      "|010b6f81|        8|\n",
      "|010ba2b9|        9|\n",
      "|014f3a50|       10|\n",
      "|01703f81|       11|\n",
      "|0191598e|       12|\n",
      "|01bc71ce|       13|\n",
      "|01c087cc|       14|\n",
      "|01d4353c|       15|\n",
      "|01dfa2cd|       16|\n",
      "|0227d662|       17|\n",
      "|02341045|       18|\n",
      "|0241ee58|       19|\n",
      "+--------+---------+\n",
      "only showing top 20 rows\n",
      "\n"
     ]
    }
   ],
   "source": [
    "result2 = graph.stronglyConnectedComponents(maxIter=10)\n",
    "result2.select(\"id\", \"component\").orderBy(\"component\").show()"
   ]
  },
  {
   "cell_type": "code",
   "execution_count": null,
   "metadata": {},
   "outputs": [],
   "source": [
    "result3 = g.labelPropagation(maxIter=5)\n",
    "result4.select(\"id\", \"label\").show()"
   ]
  },
  {
   "cell_type": "code",
   "execution_count": null,
   "metadata": {},
   "outputs": [],
   "source": [
    "results = g.pageRank(resetProbability=0.15, tol=0.01)\n",
    "results.vertices.select(\"id\", \"pagerank\").show()\n",
    "results.edges.select(\"src\", \"dst\", \"weight\").show()"
   ]
  },
  {
   "cell_type": "code",
   "execution_count": 1,
   "metadata": {},
   "outputs": [
    {
     "ename": "NameError",
     "evalue": "name 'spark' is not defined",
     "output_type": "error",
     "traceback": [
      "\u001b[0;31m---------------------------------------------------------------------------\u001b[0m",
      "\u001b[0;31mNameError\u001b[0m                                 Traceback (most recent call last)",
      "\u001b[0;32m<ipython-input-1-5c6b4d5d9db0>\u001b[0m in \u001b[0;36m<module>\u001b[0;34m\u001b[0m\n\u001b[0;32m----> 1\u001b[0;31m \u001b[0mspark\u001b[0m\u001b[0;34m.\u001b[0m\u001b[0mstop\u001b[0m\u001b[0;34m(\u001b[0m\u001b[0;34m)\u001b[0m\u001b[0;34m\u001b[0m\u001b[0;34m\u001b[0m\u001b[0m\n\u001b[0m",
      "\u001b[0;31mNameError\u001b[0m: name 'spark' is not defined"
     ]
    }
   ],
   "source": [
    "spark.stop()"
   ]
  },
  {
   "cell_type": "code",
   "execution_count": null,
   "metadata": {},
   "outputs": [],
   "source": []
  }
 ],
 "metadata": {
  "kernelspec": {
   "display_name": "Python 3",
   "language": "python",
   "name": "python3"
  },
  "language_info": {
   "codemirror_mode": {
    "name": "ipython",
    "version": 3
   },
   "file_extension": ".py",
   "mimetype": "text/x-python",
   "name": "python",
   "nbconvert_exporter": "python",
   "pygments_lexer": "ipython3",
   "version": "3.7.6"
  }
 },
 "nbformat": 4,
 "nbformat_minor": 4
}
