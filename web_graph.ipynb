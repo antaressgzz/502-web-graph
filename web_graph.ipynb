{
 "cells": [
  {
   "cell_type": "code",
   "execution_count": 1,
   "metadata": {},
   "outputs": [],
   "source": [
    "# import findspark and os and let findspark find all the environment variables\n",
    "import findspark\n",
    "import os\n",
    "findspark.init()\n",
    "\n",
    "\n",
    "# Before you create the SparkSession, you need to add a new environment variable \n",
    "# to tell pyspark where the graphframes library is\n",
    "SUBMIT_ARGS = \"--packages graphframes:graphframes:0.7.0-spark2.4-s_2.11 pyspark-shell\"\n",
    "os.environ[\"PYSPARK_SUBMIT_ARGS\"] = SUBMIT_ARGS\n",
    "\n",
    "import pyspark\n",
    "from pyspark.sql import *\n",
    "from pyspark.sql.functions import udf\n",
    "\n",
    "# Create the SparkSession\n",
    "from pyspark.sql import SparkSession\n",
    "spark = SparkSession.builder.appName(\"graphx-lab\").getOrCreate()\n",
    "\n",
    "# import additional libraries\n",
    "from graphframes import *\n",
    "import hashlib"
   ]
  },
  {
   "cell_type": "code",
   "execution_count": 2,
   "metadata": {},
   "outputs": [],
   "source": [
    "import numpy as np\n",
    "import pandas as pd\n",
    "import time\n",
    "import matplotlib.pyplot as plt\n",
    "from sklearn.linear_model import LinearRegression\n",
    "from pyspark.sql.functions import lit,row_number,col\n",
    "%matplotlib inline"
   ]
  },
  {
   "cell_type": "code",
   "execution_count": 3,
   "metadata": {},
   "outputs": [],
   "source": [
    "sc = spark.sparkContext\n",
    "sc.setCheckpointDir('.')"
   ]
  },
  {
   "cell_type": "code",
   "execution_count": 4,
   "metadata": {},
   "outputs": [],
   "source": [
    "def hashnode(x):\n",
    "    return hashlib.sha1(x.encode(\"UTF-8\")).hexdigest()[:8]\n",
    "\n",
    "hashnode_udf = udf(hashnode)\n",
    "\n",
    "# list of path list to read into dataframe\n",
    "def path_list(path, size):\n",
    "    ps = []\n",
    "    for s in size:\n",
    "        ps.append([path+'/part-'+str(i).zfill(5) for i in range(s)])\n",
    "    return ps\n",
    "\n",
    "# build graphframe\n",
    "def build_graphs(path, size):\n",
    "    d = {}\n",
    "    for s, l in zip(size,path_list(path, size)):\n",
    "        df = spark.read.load(l,format=\"csv\", sep=\"\\t\", inferSchema=\"true\", header=\"false\")\n",
    "        df = df.withColumnRenamed('_c0', 'parentTLD').withColumnRenamed('_c1', 'childTLD').filter(\"parentTLD is not null and childTLD is not null\")\n",
    "        df = df.drop_duplicates()\n",
    "        aggcodes = df.select(\"parentTLD\",\"childTLD\").rdd.flatMap(lambda x: x).distinct()\n",
    "        vertices = aggcodes.map(lambda x: (hashnode(x), x)).toDF([\"id\",\"name\"])\n",
    "        edges = df.select(\"parentTLD\",\"childTLD\")\\\n",
    "        .withColumn(\"src\", hashnode_udf(\"parentTLD\"))\\\n",
    "        .withColumn(\"dst\", hashnode_udf(\"childTLD\")).select(\"src\",\"dst\")\n",
    "        vertices.cache()\n",
    "        edges.cache()\n",
    "        d[s] = GraphFrame(vertices, edges), vertices, edges\n",
    "    return d\n",
    "\n",
    "# numver of edges, vertices, densities given sample size\n",
    "def evd(graphs, size=[1,2,4,8]):\n",
    "    nes = []\n",
    "    nvs = []\n",
    "    dens = []\n",
    "    for s in size:\n",
    "        graph,vertices,edges = graphs[s]\n",
    "        \n",
    "        n_v = vertices.count()\n",
    "        n_e = edges.count()\n",
    "        \n",
    "        nes.append(n_e)\n",
    "        nvs.append(n_v)\n",
    "        dens.append(n_e / (n_v*(n_v-1)))\n",
    "    return nes, nvs, dens\n",
    "\n",
    "# number of connetced components\n",
    "def connected_components(graphs, sizes=[1,2,3]):\n",
    "    n_comp = []\n",
    "    n_strcomp = []\n",
    "    for s in size:\n",
    "        graph,vertices,edges = graphs[s]\n",
    "    \n",
    "        result = graph.connectedComponents()\n",
    "        result1 = graph.stronglyConnectedComponents(maxIter = 10)\n",
    "        n_comp.append(result.select(\"component\").distinct().count())\n",
    "        n_strcomp.append(result1.select(\"component\").distinct().count())\n",
    "\n",
    "    return n_comp, n_strcomp\n",
    "\n",
    "# in/out degree given sample sizes\n",
    "def degree(graphs, size, mode='in', website=None): \n",
    "    result_df = None\n",
    "    i = 0 \n",
    "    for s in size:\n",
    "        graph,vertices,edges = graphs[s]\n",
    "        if mode == 'in': \n",
    "            dg = graph.inDegrees.join(vertices, on=\"id\")\\\n",
    "                        .orderBy(\"inDegree\", ascending=False) \n",
    "            dg = dg.withColumnRenamed('inDegree','size_'+str(size[i]))\n",
    "        else:\n",
    "            dg = graph.outDegrees.join(vertices, on=\"id\")\\\n",
    "                        .orderBy(\"outDegree\", ascending=False) \n",
    "            dg = dg.withColumnRenamed('outDegree','size_'+str(size[i]))\n",
    "        dg = dg.withColumnRenamed('name','website')\n",
    "        if not result_df:\n",
    "            result_df = dg\n",
    "        else: \n",
    "            result_df = result_df.join(dg, on=['website', 'id'])\n",
    "        i = i+1\n",
    "    result_df = result_df.orderBy('size_'+str(size[i-1]), ascending=False)\n",
    "    if website == None: \n",
    "        return result_df\n",
    "    else:        \n",
    "        return result_df.filter(col('website').isin(website))"
   ]
  },
  {
   "cell_type": "code",
   "execution_count": 5,
   "metadata": {},
   "outputs": [
    {
     "data": {
      "text/plain": [
       "521.0357739925385"
      ]
     },
     "execution_count": 5,
     "metadata": {},
     "output_type": "execute_result"
    }
   ],
   "source": [
    "start = time.time()\n",
    "d = build_graphs('s3://502lab3/proj512', [1,2,4,8,16,32,64,128,256,512])\n",
    "time.time() - start"
   ]
  },
  {
   "cell_type": "code",
   "execution_count": 70,
   "metadata": {},
   "outputs": [],
   "source": [
    "size = [1,2,4,8,16,32,64,128,256,512]\n",
    "nes, nvs, nds = evd(d, size)"
   ]
  },
  {
   "cell_type": "code",
   "execution_count": 71,
   "metadata": {},
   "outputs": [
    {
     "data": {
      "text/plain": [
       "[<matplotlib.lines.Line2D at 0x7fca3c793750>]"
      ]
     },
     "execution_count": 71,
     "metadata": {},
     "output_type": "execute_result"
    },
    {
     "data": {
      "image/png": "[encoded data removed]",
      "text/plain": [
       "<Figure size 432x288 with 1 Axes>"
      ]
     },
     "metadata": {
      "needs_background": "light"
     },
     "output_type": "display_data"
    }
   ],
   "source": [
    "plt.plot(size, nes)"
   ]
  },
  {
   "cell_type": "code",
   "execution_count": 12,
   "metadata": {},
   "outputs": [
    {
     "data": {
      "text/plain": [
       "[<matplotlib.lines.Line2D at 0x7f37e9e5f290>]"
      ]
     },
     "execution_count": 12,
     "metadata": {},
     "output_type": "execute_result"
    },
    {
     "data": {
      "image/png": "[encoded data removed]",
      "text/plain": [
       "<Figure size 432x288 with 1 Axes>"
      ]
     },
     "metadata": {
      "needs_background": "light"
     },
     "output_type": "display_data"
    }
   ],
   "source": [
    "plt.plot(np.log2(size), nes)"
   ]
  },
  {
   "cell_type": "code",
   "execution_count": 19,
   "metadata": {},
   "outputs": [
    {
     "name": "stdout",
     "output_type": "stream",
     "text": [
      "R2 score: 0.998472272994451\n"
     ]
    },
    {
     "data": {
      "text/plain": [
       "[<matplotlib.lines.Line2D at 0x7f37e9cf2490>]"
      ]
     },
     "execution_count": 19,
     "metadata": {},
     "output_type": "execute_result"
    },
    {
     "data": {
      "image/png": "[encoded data removed]",
      "text/plain": [
       "<Figure size 432x288 with 1 Axes>"
      ]
     },
     "metadata": {
      "needs_background": "light"
     },
     "output_type": "display_data"
    }
   ],
   "source": [
    "reg = LinearRegression().fit(np.array(np.log2(size)**4.5).reshape(-1,1), nes)\n",
    "print('R2 score:', reg.score(np.array(np.log2(size)**4.5).reshape(-1,1), nes))\n",
    "plt.plot(np.log2(size)**4.5, nes)"
   ]
  },
  {
   "cell_type": "code",
   "execution_count": 71,
   "metadata": {},
   "outputs": [
    {
     "data": {
      "text/plain": [
       "[<matplotlib.lines.Line2D at 0x7f7771c042d0>]"
      ]
     },
     "execution_count": 71,
     "metadata": {},
     "output_type": "execute_result"
    },
    {
     "data": {
      "image/png": "[encoded data removed]",
      "text/plain": [
       "<Figure size 432x288 with 1 Axes>"
      ]
     },
     "metadata": {
      "needs_background": "light"
     },
     "output_type": "display_data"
    }
   ],
   "source": [
    "plt.plot(size, nvs)"
   ]
  },
  {
   "cell_type": "code",
   "execution_count": 82,
   "metadata": {},
   "outputs": [
    {
     "data": {
      "text/plain": [
       "[<matplotlib.lines.Line2D at 0x7f77722d4350>]"
      ]
     },
     "execution_count": 82,
     "metadata": {},
     "output_type": "execute_result"
    },
    {
     "data": {
      "image/png": "[encoded data removed]",
      "text/plain": [
       "<Figure size 432x288 with 1 Axes>"
      ]
     },
     "metadata": {
      "needs_background": "light"
     },
     "output_type": "display_data"
    }
   ],
   "source": [
    "plt.plot(np.log2(size), nvs)"
   ]
  },
  {
   "cell_type": "code",
   "execution_count": 21,
   "metadata": {},
   "outputs": [
    {
     "name": "stdout",
     "output_type": "stream",
     "text": [
      "R2 score: 0.9992840981367758\n"
     ]
    },
    {
     "data": {
      "text/plain": [
       "[<matplotlib.lines.Line2D at 0x7f37e9c3f210>]"
      ]
     },
     "execution_count": 21,
     "metadata": {},
     "output_type": "execute_result"
    },
    {
     "data": {
      "image/png": "[encoded data removed]",
      "text/plain": [
       "<Figure size 432x288 with 1 Axes>"
      ]
     },
     "metadata": {
      "needs_background": "light"
     },
     "output_type": "display_data"
    }
   ],
   "source": [
    "reg = LinearRegression().fit(np.array(np.log2(size)**3.5).reshape(-1,1), nvs)\n",
    "print('R2 score:', reg.score(np.array(np.log2(size)**3.5).reshape(-1,1), nvs))\n",
    "plt.plot(np.log2(size)**3.5, nvs)"
   ]
  },
  {
   "cell_type": "code",
   "execution_count": 89,
   "metadata": {},
   "outputs": [
    {
     "data": {
      "text/plain": [
       "[<matplotlib.lines.Line2D at 0x7f77715f1510>]"
      ]
     },
     "execution_count": 89,
     "metadata": {},
     "output_type": "execute_result"
    },
    {
     "data": {
      "image/png": "[encoded data removed]",
      "text/plain": [
       "<Figure size 432x288 with 1 Axes>"
      ]
     },
     "metadata": {
      "needs_background": "light"
     },
     "output_type": "display_data"
    }
   ],
   "source": [
    "plt.plot(size, nds)"
   ]
  },
  {
   "cell_type": "code",
   "execution_count": 90,
   "metadata": {},
   "outputs": [
    {
     "data": {
      "text/plain": [
       "[<matplotlib.lines.Line2D at 0x7f77715e5090>]"
      ]
     },
     "execution_count": 90,
     "metadata": {},
     "output_type": "execute_result"
    },
    {
     "data": {
      "image/png": "[encoded data removed]",
      "text/plain": [
       "<Figure size 432x288 with 1 Axes>"
      ]
     },
     "metadata": {
      "needs_background": "light"
     },
     "output_type": "display_data"
    }
   ],
   "source": [
    "plt.plot(np.log2(size), nds)"
   ]
  },
  {
   "cell_type": "code",
   "execution_count": 28,
   "metadata": {},
   "outputs": [
    {
     "name": "stderr",
     "output_type": "stream",
     "text": [
      "/home/hadoop/miniconda/lib/python3.7/site-packages/ipykernel_launcher.py:1: RuntimeWarning: divide by zero encountered in true_divide\n",
      "  \"\"\"Entry point for launching an IPython kernel.\n"
     ]
    },
    {
     "data": {
      "text/plain": [
       "[<matplotlib.lines.Line2D at 0x7f37e9ec9b50>]"
      ]
     },
     "execution_count": 28,
     "metadata": {},
     "output_type": "execute_result"
    },
    {
     "data": {
      "image/png": "[encoded data removed]",
      "text/plain": [
       "<Figure size 432x288 with 1 Axes>"
      ]
     },
     "metadata": {
      "needs_background": "light"
     },
     "output_type": "display_data"
    }
   ],
   "source": [
    "plt.plot(1/(np.log2(size)**0.5), nds)"
   ]
  },
  {
   "cell_type": "code",
   "execution_count": 29,
   "metadata": {},
   "outputs": [],
   "source": [
    "size=[1,2,4,8]\n",
    "ncc, nscc = connected_components(d, size)"
   ]
  },
  {
   "cell_type": "code",
   "execution_count": 35,
   "metadata": {},
   "outputs": [
    {
     "data": {
      "text/plain": [
       "[<matplotlib.lines.Line2D at 0x7f37e97cead0>]"
      ]
     },
     "execution_count": 35,
     "metadata": {},
     "output_type": "execute_result"
    },
    {
     "data": {
      "image/png": "[encoded data removed]",
      "text/plain": [
       "<Figure size 432x288 with 1 Axes>"
      ]
     },
     "metadata": {
      "needs_background": "light"
     },
     "output_type": "display_data"
    }
   ],
   "source": [
    "plt.plot(size, ncc)"
   ]
  },
  {
   "cell_type": "code",
   "execution_count": 34,
   "metadata": {},
   "outputs": [
    {
     "data": {
      "text/plain": [
       "[<matplotlib.lines.Line2D at 0x7f37e985f710>]"
      ]
     },
     "execution_count": 34,
     "metadata": {},
     "output_type": "execute_result"
    },
    {
     "data": {
      "image/png": "[encoded data removed]",
      "text/plain": [
       "<Figure size 432x288 with 1 Axes>"
      ]
     },
     "metadata": {
      "needs_background": "light"
     },
     "output_type": "display_data"
    }
   ],
   "source": [
    "plt.plot(np.log2(size)**1.5, ncc)"
   ]
  },
  {
   "cell_type": "code",
   "execution_count": 36,
   "metadata": {},
   "outputs": [
    {
     "data": {
      "text/plain": [
       "[<matplotlib.lines.Line2D at 0x7f37e9746a90>]"
      ]
     },
     "execution_count": 36,
     "metadata": {},
     "output_type": "execute_result"
    },
    {
     "data": {
      "image/png": "[encoded data removed]",
      "text/plain": [
       "<Figure size 432x288 with 1 Axes>"
      ]
     },
     "metadata": {
      "needs_background": "light"
     },
     "output_type": "display_data"
    }
   ],
   "source": [
    "plt.plot(size, nscc)"
   ]
  },
  {
   "cell_type": "code",
   "execution_count": 51,
   "metadata": {},
   "outputs": [],
   "source": [
    "size = [1,2,4,8,16,32,64,128,256,512]\n",
    "indeg_df =  degree(d, size, mode='in', website=None)\n",
    "outdeg_df = degree(d, size, mode='out', website=None)"
   ]
  },
  {
   "cell_type": "code",
   "execution_count": 53,
   "metadata": {},
   "outputs": [
    {
     "name": "stdout",
     "output_type": "stream",
     "text": [
      "+--------------------+--------+------+------+------+------+-------+-------+-------+--------+--------+--------+\n",
      "|             website|      id|size_1|size_2|size_4|size_8|size_16|size_32|size_64|size_128|size_256|size_512|\n",
      "+--------------------+--------+------+------+------+------+-------+-------+-------+--------+--------+--------+\n",
      "|        facebook.com|b7c70898|  8673| 16161| 30862| 56897| 103774| 177189| 322129|  541169|  880616| 1403389|\n",
      "|         twitter.com|465806fb|  6529| 12053| 22824| 41798|  75079| 125828| 225459|  372339|  594231|  928436|\n",
      "|       instagram.com|06252e37|  3753|  6895| 13053| 24002|  43712|  74285| 135121|  225983|  365259|  575579|\n",
      "|         youtube.com|d7e222c8|  3759|  6955| 13129| 24321|  44177|  74947| 134731|  224066|  359888|  566046|\n",
      "|       wordpress.org|bc565513|  1121|  2106|  4151|  8117|  15576|  28564|  55018|   99221|  172730|  292738|\n",
      "|        linkedin.com|1b274516|  1585|  2964|  5663| 10634|  19624|  33780|  62088|  105617|  175022|  284869|\n",
      "|     plus.google.com|9b319411|  1299|  2391|  4645|  8722|  16008|  27690|  50900|   85968|  140144|  222547|\n",
      "|googletagmanager.com|4fa6d5a6|  1693|  3071|  5766| 10288|  18073|  29476|  51175|   82456|  128292|  195134|\n",
      "|          google.com|baea954b|   846|  1647|  3135|  5838|  10824|  18866|  34470|   59599|  101443|  169988|\n",
      "|       pinterest.com|d84f4904|  1034|  1958|  3731|  6959|  12737|  21796|  39789|   66606|  106863|  166485|\n",
      "|              vk.com|4894387e|   670|  1285|  2447|  4623|   8311|  14083|  25537|   42449|   67230|  102445|\n",
      "|              goo.gl|50ed7453|   370|   698|  1303|  2390|   4574|   8089|  15318|   27071|   46619|   78577|\n",
      "|   beian.miit.gov.cn|e05a3223|   293|   554|  1089|  2106|   3912|   7058|  13433|   24177|   42783|   72995|\n",
      "| secure.gravatar.com|5bff5e76|   284|   563|  1155|  2196|   4223|   7602|  14266|   24793|   41346|   66901|\n",
      "|        mc.yandex.ru|ef80a3c5|   388|   740|  1465|  2736|   5038|   8427|  15470|   25563|   40724|   62339|\n",
      "|    en.wikipedia.org|0acd465b|   245|   466|   899|  1672|   3180|   5747|  10703|   18994|   33403|   57418|\n",
      "|   fonts.gstatic.com|ceb3d7d6|   204|   382|   743|  1423|   2673|   4900|   9572|   17427|   31408|   55182|\n",
      "|           i0.wp.com|d78fcc67|   273|   489|   938|  1823|   3427|   6176|  11614|   20185|   33458|   54045|\n",
      "|              bit.ly|903fe3e1|   348|   652|  1220|  2280|   4174|   7065|  12457|   20662|   33661|   54005|\n",
      "|           i1.wp.com|6985718a|   249|   479|   899|  1729|   3253|   5868|  10991|   19182|   32023|   51793|\n",
      "+--------------------+--------+------+------+------+------+-------+-------+-------+--------+--------+--------+\n",
      "only showing top 20 rows\n",
      "\n"
     ]
    }
   ],
   "source": [
    "indeg_df.show()"
   ]
  },
  {
   "cell_type": "code",
   "execution_count": 54,
   "metadata": {},
   "outputs": [
    {
     "name": "stdout",
     "output_type": "stream",
     "text": [
      "+--------------------+--------+------+------+------+------+-------+-------+-------+--------+--------+--------+\n",
      "|             website|      id|size_1|size_2|size_4|size_8|size_16|size_32|size_64|size_128|size_256|size_512|\n",
      "+--------------------+--------+------+------+------+------+-------+-------+-------+--------+--------+--------+\n",
      "|            onega.su|4729bbaa|     2|     2|     2|     2|      2|      7|      7|     231|     233|    3363|\n",
      "|    ja.wikipedia.org|b8922b01|     2|    28|    61|    86|    293|    432|   1124|    1555|    1942|    2657|\n",
      "|  en.m.wikipedia.org|a6f90f8f|     6|    21|    46|    69|     80|    180|    481|    1124|    1556|    2556|\n",
      "|    es.wikipedia.org|1603c1ad|    29|    55|    66|   165|    201|    330|    424|     841|    1372|    2214|\n",
      "|    blog.livedoor.jp|86b4632c|     2|    11|    29|   116|    257|    334|    645|     911|    1535|    2093|\n",
      "|       m.pinboard.in|3e611aa2|     8|    21|    21|   186|    312|    454|    497|     728|    1207|    2022|\n",
      "|    fr.wikipedia.org|d76f9274|    88|    99|   116|   219|    362|    456|    640|     953|    1279|    1982|\n",
      "|  zh.m.wikipedia.org|95fb7d12|    37|    56|    67|    93|    156|    193|    383|     793|    1238|    1931|\n",
      "|worldwidescience.org|c4c0bee3|    45|    45|    45|   114|    114|    240|    443|     942|    1408|    1857|\n",
      "|      fehlerleser.de|5112e1b2|   521|   521|   521|   521|    521|    521|    521|     521|     901|    1690|\n",
      "|    pt.wikipedia.org|3d600a19|     2|    16|    29|    42|    164|    237|    435|     894|    1144|    1621|\n",
      "|  fr.m.wikipedia.org|b67fe4b4|     2|    16|    36|    52|    100|    215|    438|     781|    1197|    1608|\n",
      "|    s3.amazonaws.com|0f07ec26|    10|    10|    10|    10|     10|     16|    207|     623|    1034|    1540|\n",
      "|  ja.m.wikipedia.org|3354c49a|     5|     7|    42|    72|     80|    192|    492|     668|    1095|    1473|\n",
      "|engineersatwar.im...|ad1b2fbe|  1192|  1192|  1192|  1192|   1192|   1192|   1192|    1468|    1468|    1468|\n",
      "|  de.m.wikipedia.org|c0149cb4|     4|     8|    17|    41|     49|    131|    272|     482|     868|    1398|\n",
      "|       lawyzlslh.com|c60bfb2d|    32|    32|    62|   145|    145|    208|    335|     511|     724|    1383|\n",
      "|    ru.wikipedia.org|e468a4fc|     8|     9|    36|    46|    120|    216|    366|     557|     804|    1353|\n",
      "|    ca.wikipedia.org|8a9ba08e|     9|    12|    25|    40|     79|    232|    390|     547|     982|    1353|\n",
      "|  pt.m.wikipedia.org|d4d55b42|     6|     6|    49|    49|    102|    134|    305|     693|    1039|    1352|\n",
      "+--------------------+--------+------+------+------+------+-------+-------+-------+--------+--------+--------+\n",
      "only showing top 20 rows\n",
      "\n"
     ]
    }
   ],
   "source": [
    "outdeg_df.show()"
   ]
  },
  {
   "cell_type": "code",
   "execution_count": null,
   "metadata": {},
   "outputs": [
    {
     "name": "stdout",
     "output_type": "stream",
     "text": [
      "1 saved\n",
      "82.6366696357727\n"
     ]
    }
   ],
   "source": [
    "# start_time = time.time()\n",
    "# for s in [1,2,4,16,32,64]:\n",
    "#     g = d[s][0]\n",
    "#     lpa = g.labelPropagation(maxIter=5)\n",
    "#     lpa.write.save(\"s3://502lab3/lpa\"+str(s)+\".parquet\", format=\"parquet\")\n",
    "#     print(s, 'saved')\n",
    "#     print(time.time() - start_time)\n",
    "\n",
    "# result.cache()\n",
    "\n",
    "# result.groupby('label').count().filter('count==362').orderBy(\"count\", ascending=True).show()\n",
    "# print(result.groupby('label').count().drop_duplicates(['count']).count())\n",
    "# print(result.groupby('label').count().count())\n",
    "# result.count()\n",
    "# vertices.distinct().count()"
   ]
  },
  {
   "cell_type": "code",
   "execution_count": 65,
   "metadata": {},
   "outputs": [],
   "source": [
    "lpa1 = spark.read.load(\"s3://502lab3/lpa1.parquet\")\n",
    "lpa2 = spark.read.load(\"s3://502lab3/lpa2.parquet\")\n",
    "lpa4 = spark.read.load(\"s3://502lab3/lpa4.parquet\")\n",
    "lpa8 = spark.read.load(\"s3://502lab3/lpa8.parquet\")\n",
    "lpa16 = spark.read.load(\"s3://502lab3/lpa16.parquet\")"
   ]
  },
  {
   "cell_type": "code",
   "execution_count": 58,
   "metadata": {},
   "outputs": [],
   "source": [
    "c1_sizes = np.array(lpa1.groupby('label').count().select('count').collect())"
   ]
  },
  {
   "cell_type": "code",
   "execution_count": 59,
   "metadata": {},
   "outputs": [
    {
     "data": {
      "text/plain": [
       "(array([0.63361251, 0.13310999, 0.06895589, 0.04142937, 0.02691234,\n",
       "        0.01948632, 0.0146287 , 0.0107761 , 0.00971524, 0.00770519,\n",
       "        0.00619765, 0.00536013, 0.00424344, 0.00351759, 0.00318258,\n",
       "        0.00279174, 0.00312674, 0.00212172, 0.00312674]),\n",
       " array([ 1.,  2.,  3.,  4.,  5.,  6.,  7.,  8.,  9., 10., 11., 12., 13.,\n",
       "        14., 15., 16., 17., 18., 19., 20.]),\n",
       " <a list of 19 Patch objects>)"
      ]
     },
     "execution_count": 59,
     "metadata": {},
     "output_type": "execute_result"
    },
    {
     "data": {
      "image/png": "[encoded data removed]",
      "text/plain": [
       "<Figure size 432x288 with 1 Axes>"
      ]
     },
     "metadata": {
      "needs_background": "light"
     },
     "output_type": "display_data"
    }
   ],
   "source": [
    "plt.hist(c1_sizes,bins=19,range=(1,20),density=True,color='r')"
   ]
  },
  {
   "cell_type": "code",
   "execution_count": 60,
   "metadata": {},
   "outputs": [
    {
     "data": {
      "text/plain": [
       "(array([0.61551756, 0.14326276, 0.07246466, 0.04363928, 0.02968953,\n",
       "        0.01919635, 0.01595581, 0.01101784, 0.00925869, 0.00774644,\n",
       "        0.0056478 , 0.00512314, 0.004259  , 0.00290106, 0.00354916,\n",
       "        0.00265416, 0.00290106, 0.00206777, 0.00314795]),\n",
       " array([ 1.,  2.,  3.,  4.,  5.,  6.,  7.,  8.,  9., 10., 11., 12., 13.,\n",
       "        14., 15., 16., 17., 18., 19., 20.]),\n",
       " <a list of 19 Patch objects>)"
      ]
     },
     "execution_count": 60,
     "metadata": {},
     "output_type": "execute_result"
    },
    {
     "data": {
      "image/png": "[encoded data removed]",
      "text/plain": [
       "<Figure size 432x288 with 1 Axes>"
      ]
     },
     "metadata": {
      "needs_background": "light"
     },
     "output_type": "display_data"
    }
   ],
   "source": [
    "c2_sizes = np.array(lpa2.groupby('label').count().select('count').collect())\n",
    "plt.hist(c2_sizes,bins=19,range=(1,20),density=True,color='r')"
   ]
  },
  {
   "cell_type": "code",
   "execution_count": 72,
   "metadata": {},
   "outputs": [
    {
     "data": {
      "text/plain": [
       "(array([8.99886888, 0.        , 0.        , 0.        , 0.        ,\n",
       "        0.        , 0.        , 0.        , 0.        , 0.        ,\n",
       "        2.00113112]),\n",
       " array([1.        , 1.09090909, 1.18181818, 1.27272727, 1.36363636,\n",
       "        1.45454545, 1.54545455, 1.63636364, 1.72727273, 1.81818182,\n",
       "        1.90909091, 2.        ]),\n",
       " <a list of 11 Patch objects>)"
      ]
     },
     "execution_count": 72,
     "metadata": {},
     "output_type": "execute_result"
    },
    {
     "data": {
      "image/png": "[encoded data removed]",
      "text/plain": [
       "<Figure size 432x288 with 1 Axes>"
      ]
     },
     "metadata": {
      "needs_background": "light"
     },
     "output_type": "display_data"
    }
   ],
   "source": [
    "# c4_sizes = np.array(lpa4.groupby('label').count().select('count').collect())\n",
    "plt.hist(c4_sizes,bins=1,range=(1,2),density=True,color='r')"
   ]
  },
  {
   "cell_type": "code",
   "execution_count": 67,
   "metadata": {},
   "outputs": [
    {
     "data": {
      "text/plain": [
       "(array([0.6177633 , 0.14024067, 0.06884522, 0.04120115, 0.02847207,\n",
       "        0.0195849 , 0.01511371, 0.01236476, 0.01006845, 0.00872157,\n",
       "        0.00673438, 0.00584014, 0.00482446, 0.00390815, 0.00415103,\n",
       "        0.00344447, 0.00288143, 0.00220799, 0.00363215]),\n",
       " array([ 1.,  2.,  3.,  4.,  5.,  6.,  7.,  8.,  9., 10., 11., 12., 13.,\n",
       "        14., 15., 16., 17., 18., 19., 20.]),\n",
       " <a list of 19 Patch objects>)"
      ]
     },
     "execution_count": 67,
     "metadata": {},
     "output_type": "execute_result"
    },
    {
     "data": {
      "image/png": "[encoded data removed]",
      "text/plain": [
       "<Figure size 432x288 with 1 Axes>"
      ]
     },
     "metadata": {
      "needs_background": "light"
     },
     "output_type": "display_data"
    }
   ],
   "source": [
    "c8_sizes = np.array(lpa8.groupby('label').count().select('count').collect())\n",
    "plt.hist(c8_sizes,bins=19,range=(1,20),density=True,color='r')"
   ]
  },
  {
   "cell_type": "code",
   "execution_count": 64,
   "metadata": {},
   "outputs": [
    {
     "data": {
      "text/plain": [
       "(array([0.59893576, 0.14558323, 0.07270121, 0.04443569, 0.03064196,\n",
       "        0.02135574, 0.01566647, 0.01287027, 0.01062944, 0.0089698 ,\n",
       "        0.0068452 , 0.0057603 , 0.00512099, 0.00427502, 0.00413295,\n",
       "        0.00349364, 0.00270579, 0.00227958, 0.00359696]),\n",
       " array([ 1.,  2.,  3.,  4.,  5.,  6.,  7.,  8.,  9., 10., 11., 12., 13.,\n",
       "        14., 15., 16., 17., 18., 19., 20.]),\n",
       " <a list of 19 Patch objects>)"
      ]
     },
     "execution_count": 64,
     "metadata": {},
     "output_type": "execute_result"
    },
    {
     "data": {
      "image/png": "[encoded data removed]",
      "text/plain": [
       "<Figure size 432x288 with 1 Axes>"
      ]
     },
     "metadata": {
      "needs_background": "light"
     },
     "output_type": "display_data"
    }
   ],
   "source": [
    "c16_sizes = np.array(lpa16.groupby('label').count().select('count').collect())\n",
    "plt.hist(c16_sizes,bins=19,range=(1,20),density=True,color='r')"
   ]
  },
  {
   "cell_type": "code",
   "execution_count": 69,
   "metadata": {},
   "outputs": [
    {
     "name": "stdout",
     "output_type": "stream",
     "text": [
      "+--------------+-----+\n",
      "|community_size|count|\n",
      "+--------------+-----+\n",
      "|             1|92747|\n",
      "|             2|22544|\n",
      "|             3|11258|\n",
      "|             4| 6881|\n",
      "|             5| 4745|\n",
      "+--------------+-----+\n",
      "only showing top 5 rows\n",
      "\n",
      "+--------------+-----+\n",
      "|community_size|count|\n",
      "+--------------+-----+\n",
      "|        128672|    1|\n",
      "|         37402|    1|\n",
      "|          6602|    1|\n",
      "|          4951|    1|\n",
      "|          4869|    1|\n",
      "+--------------+-----+\n",
      "only showing top 5 rows\n",
      "\n"
     ]
    }
   ],
   "source": [
    "lpa16.groupby('label').count().withColumnRenamed('count', 'community_size').groupby('community_size').count().orderBy(\"community_size\", ascending=True).show(5)\n",
    "lpa16.groupby('label').count().withColumnRenamed('count', 'community_size').groupby('community_size').count().orderBy(\"community_size\", ascending=False).show(5)"
   ]
  },
  {
   "cell_type": "code",
   "execution_count": null,
   "metadata": {},
   "outputs": [],
   "source": []
  },
  {
   "cell_type": "code",
   "execution_count": 1,
   "metadata": {},
   "outputs": [
    {
     "ename": "NameError",
     "evalue": "name 'spark' is not defined",
     "output_type": "error",
     "traceback": [
      "\u001b[0;31m---------------------------------------------------------------------------\u001b[0m",
      "\u001b[0;31mNameError\u001b[0m                                 Traceback (most recent call last)",
      "\u001b[0;32m<ipython-input-1-5c6b4d5d9db0>\u001b[0m in \u001b[0;36m<module>\u001b[0;34m\u001b[0m\n\u001b[0;32m----> 1\u001b[0;31m \u001b[0mspark\u001b[0m\u001b[0;34m.\u001b[0m\u001b[0mstop\u001b[0m\u001b[0;34m(\u001b[0m\u001b[0;34m)\u001b[0m\u001b[0;34m\u001b[0m\u001b[0;34m\u001b[0m\u001b[0m\n\u001b[0m",
      "\u001b[0;31mNameError\u001b[0m: name 'spark' is not defined"
     ]
    }
   ],
   "source": [
    "spark.stop()"
   ]
  },
  {
   "cell_type": "code",
   "execution_count": null,
   "metadata": {},
   "outputs": [],
   "source": []
  }
 ],
 "metadata": {
  "kernelspec": {
   "display_name": "Python 3",
   "language": "python",
   "name": "python3"
  },
  "language_info": {
   "codemirror_mode": {
    "name": "ipython",
    "version": 3
   },
   "file_extension": ".py",
   "mimetype": "text/x-python",
   "name": "python",
   "nbconvert_exporter": "python",
   "pygments_lexer": "ipython3",
   "version": "3.7.3"
  }
 },
 "nbformat": 4,
 "nbformat_minor": 4
}
