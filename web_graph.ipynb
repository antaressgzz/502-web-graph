{
 "cells": [
  {
   "cell_type": "code",
   "execution_count": 1,
   "metadata": {},
   "outputs": [],
   "source": [
    "# import findspark and os and let findspark find all the environment variables\n",
    "import findspark\n",
    "import os\n",
    "findspark.init()\n",
    "\n",
    "\n",
    "# Before you create the SparkSession, you need to add a new environment variable \n",
    "# to tell pyspark where the graphframes library is\n",
    "SUBMIT_ARGS = \"--packages graphframes:graphframes:0.7.0-spark2.4-s_2.11 pyspark-shell\"\n",
    "os.environ[\"PYSPARK_SUBMIT_ARGS\"] = SUBMIT_ARGS\n",
    "\n",
    "import pyspark\n",
    "from pyspark.sql import *\n",
    "from pyspark.sql.functions import udf\n",
    "\n",
    "# Create the SparkSession\n",
    "from pyspark.sql import SparkSession\n",
    "spark = SparkSession.builder.appName(\"graphx-lab\").getOrCreate()\n",
    "\n",
    "# import additional libraries\n",
    "from graphframes import *\n",
    "import hashlib"
   ]
  },
  {
   "cell_type": "code",
   "execution_count": 5,
   "metadata": {},
   "outputs": [
    {
     "data": {
      "text/html": [
       "\n",
       "            <div>\n",
       "                <p><b>SparkSession - in-memory</b></p>\n",
       "                \n",
       "        <div>\n",
       "            <p><b>SparkContext</b></p>\n",
       "\n",
       "            <p><a href=\"http://ip-172-31-33-7.ec2.internal:4040\">Spark UI</a></p>\n",
       "\n",
       "            <dl>\n",
       "              <dt>Version</dt>\n",
       "                <dd><code>v2.4.4</code></dd>\n",
       "              <dt>Master</dt>\n",
       "                <dd><code>yarn</code></dd>\n",
       "              <dt>AppName</dt>\n",
       "                <dd><code>graphx-lab</code></dd>\n",
       "            </dl>\n",
       "        </div>\n",
       "        \n",
       "            </div>\n",
       "        "
      ],
      "text/plain": [
       "<pyspark.sql.session.SparkSession at 0x7f0a144b9710>"
      ]
     },
     "execution_count": 5,
     "metadata": {},
     "output_type": "execute_result"
    }
   ],
   "source": [
    "spark"
   ]
  },
  {
   "cell_type": "code",
   "execution_count": 19,
   "metadata": {},
   "outputs": [],
   "source": [
    "import numpy as np\n",
    "import time"
   ]
  },
  {
   "cell_type": "code",
   "execution_count": 6,
   "metadata": {},
   "outputs": [],
   "source": [
    "sc = spark.sparkContext\n",
    "sc.setCheckpointDir('.')"
   ]
  },
  {
   "cell_type": "code",
   "execution_count": 18,
   "metadata": {},
   "outputs": [],
   "source": [
    "df10 = spark.read.load(path_list('s3://502lab3/proj20', [10])[0],\n",
    "                     format=\"csv\", sep=\"\\t\", inferSchema=\"true\", header=\"false\")\n",
    "df20 = spark.read.load(path_list('s3://502lab3/proj20', [20])[0],\n",
    "                     format=\"csv\", sep=\"\\t\", inferSchema=\"true\", header=\"false\")"
   ]
  },
  {
   "cell_type": "code",
   "execution_count": 14,
   "metadata": {},
   "outputs": [
    {
     "name": "stdout",
     "output_type": "stream",
     "text": [
      "+------------------+-------------+\n",
      "|               _c0|          _c1|\n",
      "+------------------+-------------+\n",
      "|         000713.cn|hd.hstong.com|\n",
      "|         002049.cn|hd.hstong.com|\n",
      "|         002237.cn|hd.hstong.com|\n",
      "|009.meihuacars.com|      4339.cc|\n",
      "|009.meihuacars.com|      3328.cn|\n",
      "|009.meihuacars.com|      3328.cn|\n",
      "|009.meihuacars.com|      3328.cn|\n",
      "|009.meihuacars.com|      3355.cn|\n",
      "|009.meihuacars.com|      3328.cn|\n",
      "|009.meihuacars.com|      3355.cn|\n",
      "+------------------+-------------+\n",
      "only showing top 10 rows\n",
      "\n"
     ]
    },
    {
     "data": {
      "text/plain": [
       "1980151"
      ]
     },
     "execution_count": 14,
     "metadata": {},
     "output_type": "execute_result"
    }
   ],
   "source": [
    "# df.cache()\n",
    "df20.show(10)\n",
    "# df.count()\n",
    "df20.distinct().count()"
   ]
  },
  {
   "cell_type": "code",
   "execution_count": 3,
   "metadata": {},
   "outputs": [],
   "source": [
    "def hashnode(x):\n",
    "    return hashlib.sha1(x.encode(\"UTF-8\")).hexdigest()[:8]\n",
    "\n",
    "hashnode_udf = udf(hashnode)\n",
    "\n",
    "def path_list(path, size):\n",
    "    ps = []\n",
    "    for s in size:\n",
    "        ps.append([path+'/part-'+str(i).zfill(5) for i in range(s)])\n",
    "#     print(ps)\n",
    "    return ps\n",
    "\n",
    "def build_graph(df):\n",
    "    df = df.withColumnRenamed('_c0', 'parentTLD').withColumnRenamed('_c1', 'childTLD').filter(\"parentTLD is not null and childTLD is not null\")\n",
    "    df = df.drop_duplicates()\n",
    "    aggcodes = df.select(\"parentTLD\",\"childTLD\").rdd.flatMap(lambda x: x).distinct()\n",
    "    vertices = aggcodes.map(lambda x: (hashnode(x), x)).toDF([\"id\",\"name\"])\n",
    "    edges = df.select(\"parentTLD\",\"childTLD\")\\\n",
    "    .withColumn(\"src\", hashnode_udf(\"parentTLD\"))\\\n",
    "    .withColumn(\"dst\", hashnode_udf(\"childTLD\")).select(\"src\",\"dst\")\n",
    "#     print(edges.count())\n",
    "#     print(vertices.count())\n",
    "    return GraphFrame(vertices, edges), vertices, edges\n",
    "\n",
    "\n",
    "def density(path='test', size=[1,2,4,8]):\n",
    "    dens = []\n",
    "    for l in path_list(path, size):\n",
    "        df = spark.read.load(l,format=\"csv\", sep=\"\\t\", inferSchema=\"true\", header=\"false\")\n",
    "        graph,vertices,edges  = build_graph(df)\n",
    "        \n",
    "        n_v = vertices.count()\n",
    "        n_e = edges.count()\n",
    "        \n",
    "        dens.append(n_e / (n_v*(n_v-1)))\n",
    "    return dens\n",
    "\n",
    "def lpa():\n",
    "    \n",
    "    return None"
   ]
  },
  {
   "cell_type": "code",
   "execution_count": 8,
   "metadata": {},
   "outputs": [
    {
     "data": {
      "text/plain": [
       "[1.7194272815919763e-05,\n",
       " 9.909619814694752e-06,\n",
       " 5.738039507889342e-06,\n",
       " 3.3633506785714227e-06,\n",
       " 2.046093259947005e-06]"
      ]
     },
     "execution_count": 8,
     "metadata": {},
     "output_type": "execute_result"
    }
   ],
   "source": [
    "density('s3://502lab3/proj20', [1,2,4,8,16])"
   ]
  },
  {
   "cell_type": "code",
   "execution_count": 20,
   "metadata": {},
   "outputs": [],
   "source": [
    "graph10,vertices10,edges10 = build_graph(df10)\n",
    "graph20,vertices20,edges20 = build_graph(df20)"
   ]
  },
  {
   "cell_type": "code",
   "execution_count": 22,
   "metadata": {},
   "outputs": [
    {
     "name": "stdout",
     "output_type": "stream",
     "text": [
      "number of v: 1059592\n",
      "number of e: 1978621\n"
     ]
    }
   ],
   "source": [
    "print('number of v:',vertices20.count())\n",
    "print('number of e:',edges20.count())"
   ]
  },
  {
   "cell_type": "code",
   "execution_count": 24,
   "metadata": {},
   "outputs": [
    {
     "name": "stdout",
     "output_type": "stream",
     "text": [
      "6123.049489736557\n"
     ]
    },
    {
     "ename": "KeyboardInterrupt",
     "evalue": "",
     "output_type": "error",
     "traceback": [
      "\u001b[0;31m---------------------------------------------------------------------------\u001b[0m",
      "\u001b[0;31mKeyboardInterrupt\u001b[0m                         Traceback (most recent call last)",
      "\u001b[0;32m<ipython-input-24-f92f0747ea9d>\u001b[0m in \u001b[0;36m<module>\u001b[0;34m\u001b[0m\n\u001b[1;32m      2\u001b[0m \u001b[0mresult10\u001b[0m \u001b[0;34m=\u001b[0m \u001b[0mgraph10\u001b[0m\u001b[0;34m.\u001b[0m\u001b[0mlabelPropagation\u001b[0m\u001b[0;34m(\u001b[0m\u001b[0mmaxIter\u001b[0m\u001b[0;34m=\u001b[0m\u001b[0;36m5\u001b[0m\u001b[0;34m)\u001b[0m\u001b[0;34m\u001b[0m\u001b[0;34m\u001b[0m\u001b[0m\n\u001b[1;32m      3\u001b[0m \u001b[0mprint\u001b[0m\u001b[0;34m(\u001b[0m\u001b[0mtime\u001b[0m\u001b[0;34m.\u001b[0m\u001b[0mtime\u001b[0m\u001b[0;34m(\u001b[0m\u001b[0;34m)\u001b[0m \u001b[0;34m-\u001b[0m \u001b[0mstart_time\u001b[0m\u001b[0;34m)\u001b[0m\u001b[0;34m\u001b[0m\u001b[0;34m\u001b[0m\u001b[0m\n\u001b[0;32m----> 4\u001b[0;31m \u001b[0mresult20\u001b[0m \u001b[0;34m=\u001b[0m \u001b[0mgraph20\u001b[0m\u001b[0;34m.\u001b[0m\u001b[0mlabelPropagation\u001b[0m\u001b[0;34m(\u001b[0m\u001b[0mmaxIter\u001b[0m\u001b[0;34m=\u001b[0m\u001b[0;36m5\u001b[0m\u001b[0;34m)\u001b[0m\u001b[0;34m\u001b[0m\u001b[0;34m\u001b[0m\u001b[0m\n\u001b[0m\u001b[1;32m      5\u001b[0m \u001b[0mprint\u001b[0m\u001b[0;34m(\u001b[0m\u001b[0mtime\u001b[0m\u001b[0;34m.\u001b[0m\u001b[0mtime\u001b[0m\u001b[0;34m(\u001b[0m\u001b[0;34m)\u001b[0m \u001b[0;34m-\u001b[0m \u001b[0mstart_time\u001b[0m\u001b[0;34m)\u001b[0m\u001b[0;34m\u001b[0m\u001b[0;34m\u001b[0m\u001b[0m\n\u001b[1;32m      6\u001b[0m \u001b[0;31m# result.cache()\u001b[0m\u001b[0;34m\u001b[0m\u001b[0;34m\u001b[0m\u001b[0;34m\u001b[0m\u001b[0m\n",
      "\u001b[0;32m/mnt/tmp/spark-4a4f5652-827e-47ef-9873-380fe4f3038a/userFiles-3dec2a6f-7874-4fb5-8d74-495c7a1b4ee9/graphframes_graphframes-0.7.0-spark2.4-s_2.11.jar/graphframes/graphframe.py\u001b[0m in \u001b[0;36mlabelPropagation\u001b[0;34m(self, maxIter)\u001b[0m\n\u001b[1;32m    341\u001b[0m         \u001b[0;34m:\u001b[0m\u001b[0;32mreturn\u001b[0m\u001b[0;34m:\u001b[0m \u001b[0mDataFrame\u001b[0m \u001b[0;32mwith\u001b[0m \u001b[0mnew\u001b[0m \u001b[0mvertices\u001b[0m \u001b[0mcolumn\u001b[0m \u001b[0;34m\"label\"\u001b[0m\u001b[0;34m\u001b[0m\u001b[0;34m\u001b[0m\u001b[0m\n\u001b[1;32m    342\u001b[0m         \"\"\"\n\u001b[0;32m--> 343\u001b[0;31m         \u001b[0mjdf\u001b[0m \u001b[0;34m=\u001b[0m \u001b[0mself\u001b[0m\u001b[0;34m.\u001b[0m\u001b[0m_jvm_graph\u001b[0m\u001b[0;34m.\u001b[0m\u001b[0mlabelPropagation\u001b[0m\u001b[0;34m(\u001b[0m\u001b[0;34m)\u001b[0m\u001b[0;34m.\u001b[0m\u001b[0mmaxIter\u001b[0m\u001b[0;34m(\u001b[0m\u001b[0mmaxIter\u001b[0m\u001b[0;34m)\u001b[0m\u001b[0;34m.\u001b[0m\u001b[0mrun\u001b[0m\u001b[0;34m(\u001b[0m\u001b[0;34m)\u001b[0m\u001b[0;34m\u001b[0m\u001b[0;34m\u001b[0m\u001b[0m\n\u001b[0m\u001b[1;32m    344\u001b[0m         \u001b[0;32mreturn\u001b[0m \u001b[0mDataFrame\u001b[0m\u001b[0;34m(\u001b[0m\u001b[0mjdf\u001b[0m\u001b[0;34m,\u001b[0m \u001b[0mself\u001b[0m\u001b[0;34m.\u001b[0m\u001b[0m_sqlContext\u001b[0m\u001b[0;34m)\u001b[0m\u001b[0;34m\u001b[0m\u001b[0;34m\u001b[0m\u001b[0m\n\u001b[1;32m    345\u001b[0m \u001b[0;34m\u001b[0m\u001b[0m\n",
      "\u001b[0;32m/usr/lib/spark/python/lib/py4j-0.10.7-src.zip/py4j/java_gateway.py\u001b[0m in \u001b[0;36m__call__\u001b[0;34m(self, *args)\u001b[0m\n\u001b[1;32m   1253\u001b[0m             \u001b[0mproto\u001b[0m\u001b[0;34m.\u001b[0m\u001b[0mEND_COMMAND_PART\u001b[0m\u001b[0;34m\u001b[0m\u001b[0;34m\u001b[0m\u001b[0m\n\u001b[1;32m   1254\u001b[0m \u001b[0;34m\u001b[0m\u001b[0m\n\u001b[0;32m-> 1255\u001b[0;31m         \u001b[0manswer\u001b[0m \u001b[0;34m=\u001b[0m \u001b[0mself\u001b[0m\u001b[0;34m.\u001b[0m\u001b[0mgateway_client\u001b[0m\u001b[0;34m.\u001b[0m\u001b[0msend_command\u001b[0m\u001b[0;34m(\u001b[0m\u001b[0mcommand\u001b[0m\u001b[0;34m)\u001b[0m\u001b[0;34m\u001b[0m\u001b[0;34m\u001b[0m\u001b[0m\n\u001b[0m\u001b[1;32m   1256\u001b[0m         return_value = get_return_value(\n\u001b[1;32m   1257\u001b[0m             answer, self.gateway_client, self.target_id, self.name)\n",
      "\u001b[0;32m/usr/lib/spark/python/lib/py4j-0.10.7-src.zip/py4j/java_gateway.py\u001b[0m in \u001b[0;36msend_command\u001b[0;34m(self, command, retry, binary)\u001b[0m\n\u001b[1;32m    983\u001b[0m         \u001b[0mconnection\u001b[0m \u001b[0;34m=\u001b[0m \u001b[0mself\u001b[0m\u001b[0;34m.\u001b[0m\u001b[0m_get_connection\u001b[0m\u001b[0;34m(\u001b[0m\u001b[0;34m)\u001b[0m\u001b[0;34m\u001b[0m\u001b[0;34m\u001b[0m\u001b[0m\n\u001b[1;32m    984\u001b[0m         \u001b[0;32mtry\u001b[0m\u001b[0;34m:\u001b[0m\u001b[0;34m\u001b[0m\u001b[0;34m\u001b[0m\u001b[0m\n\u001b[0;32m--> 985\u001b[0;31m             \u001b[0mresponse\u001b[0m \u001b[0;34m=\u001b[0m \u001b[0mconnection\u001b[0m\u001b[0;34m.\u001b[0m\u001b[0msend_command\u001b[0m\u001b[0;34m(\u001b[0m\u001b[0mcommand\u001b[0m\u001b[0;34m)\u001b[0m\u001b[0;34m\u001b[0m\u001b[0;34m\u001b[0m\u001b[0m\n\u001b[0m\u001b[1;32m    986\u001b[0m             \u001b[0;32mif\u001b[0m \u001b[0mbinary\u001b[0m\u001b[0;34m:\u001b[0m\u001b[0;34m\u001b[0m\u001b[0;34m\u001b[0m\u001b[0m\n\u001b[1;32m    987\u001b[0m                 \u001b[0;32mreturn\u001b[0m \u001b[0mresponse\u001b[0m\u001b[0;34m,\u001b[0m \u001b[0mself\u001b[0m\u001b[0;34m.\u001b[0m\u001b[0m_create_connection_guard\u001b[0m\u001b[0;34m(\u001b[0m\u001b[0mconnection\u001b[0m\u001b[0;34m)\u001b[0m\u001b[0;34m\u001b[0m\u001b[0;34m\u001b[0m\u001b[0m\n",
      "\u001b[0;32m/usr/lib/spark/python/lib/py4j-0.10.7-src.zip/py4j/java_gateway.py\u001b[0m in \u001b[0;36msend_command\u001b[0;34m(self, command)\u001b[0m\n\u001b[1;32m   1150\u001b[0m \u001b[0;34m\u001b[0m\u001b[0m\n\u001b[1;32m   1151\u001b[0m         \u001b[0;32mtry\u001b[0m\u001b[0;34m:\u001b[0m\u001b[0;34m\u001b[0m\u001b[0;34m\u001b[0m\u001b[0m\n\u001b[0;32m-> 1152\u001b[0;31m             \u001b[0manswer\u001b[0m \u001b[0;34m=\u001b[0m \u001b[0msmart_decode\u001b[0m\u001b[0;34m(\u001b[0m\u001b[0mself\u001b[0m\u001b[0;34m.\u001b[0m\u001b[0mstream\u001b[0m\u001b[0;34m.\u001b[0m\u001b[0mreadline\u001b[0m\u001b[0;34m(\u001b[0m\u001b[0;34m)\u001b[0m\u001b[0;34m[\u001b[0m\u001b[0;34m:\u001b[0m\u001b[0;34m-\u001b[0m\u001b[0;36m1\u001b[0m\u001b[0;34m]\u001b[0m\u001b[0;34m)\u001b[0m\u001b[0;34m\u001b[0m\u001b[0;34m\u001b[0m\u001b[0m\n\u001b[0m\u001b[1;32m   1153\u001b[0m             \u001b[0mlogger\u001b[0m\u001b[0;34m.\u001b[0m\u001b[0mdebug\u001b[0m\u001b[0;34m(\u001b[0m\u001b[0;34m\"Answer received: {0}\"\u001b[0m\u001b[0;34m.\u001b[0m\u001b[0mformat\u001b[0m\u001b[0;34m(\u001b[0m\u001b[0manswer\u001b[0m\u001b[0;34m)\u001b[0m\u001b[0;34m)\u001b[0m\u001b[0;34m\u001b[0m\u001b[0;34m\u001b[0m\u001b[0m\n\u001b[1;32m   1154\u001b[0m             \u001b[0;32mif\u001b[0m \u001b[0manswer\u001b[0m\u001b[0;34m.\u001b[0m\u001b[0mstartswith\u001b[0m\u001b[0;34m(\u001b[0m\u001b[0mproto\u001b[0m\u001b[0;34m.\u001b[0m\u001b[0mRETURN_MESSAGE\u001b[0m\u001b[0;34m)\u001b[0m\u001b[0;34m:\u001b[0m\u001b[0;34m\u001b[0m\u001b[0;34m\u001b[0m\u001b[0m\n",
      "\u001b[0;32m~/miniconda/lib/python3.7/socket.py\u001b[0m in \u001b[0;36mreadinto\u001b[0;34m(self, b)\u001b[0m\n\u001b[1;32m    587\u001b[0m         \u001b[0;32mwhile\u001b[0m \u001b[0;32mTrue\u001b[0m\u001b[0;34m:\u001b[0m\u001b[0;34m\u001b[0m\u001b[0;34m\u001b[0m\u001b[0m\n\u001b[1;32m    588\u001b[0m             \u001b[0;32mtry\u001b[0m\u001b[0;34m:\u001b[0m\u001b[0;34m\u001b[0m\u001b[0;34m\u001b[0m\u001b[0m\n\u001b[0;32m--> 589\u001b[0;31m                 \u001b[0;32mreturn\u001b[0m \u001b[0mself\u001b[0m\u001b[0;34m.\u001b[0m\u001b[0m_sock\u001b[0m\u001b[0;34m.\u001b[0m\u001b[0mrecv_into\u001b[0m\u001b[0;34m(\u001b[0m\u001b[0mb\u001b[0m\u001b[0;34m)\u001b[0m\u001b[0;34m\u001b[0m\u001b[0;34m\u001b[0m\u001b[0m\n\u001b[0m\u001b[1;32m    590\u001b[0m             \u001b[0;32mexcept\u001b[0m \u001b[0mtimeout\u001b[0m\u001b[0;34m:\u001b[0m\u001b[0;34m\u001b[0m\u001b[0;34m\u001b[0m\u001b[0m\n\u001b[1;32m    591\u001b[0m                 \u001b[0mself\u001b[0m\u001b[0;34m.\u001b[0m\u001b[0m_timeout_occurred\u001b[0m \u001b[0;34m=\u001b[0m \u001b[0;32mTrue\u001b[0m\u001b[0;34m\u001b[0m\u001b[0;34m\u001b[0m\u001b[0m\n",
      "\u001b[0;31mKeyboardInterrupt\u001b[0m: "
     ]
    }
   ],
   "source": [
    "start_time = time.time()\n",
    "result10 = graph10.labelPropagation(maxIter=5)\n",
    "print(time.time() - start_time)\n",
    "result20 = graph20.labelPropagation(maxIter=5)\n",
    "print(time.time() - start_time)\n",
    "# result.cache()\n",
    "# result.show(5)\n",
    "# result.groupby('label').count().filter('count==362').orderBy(\"count\", ascending=True).show()\n",
    "# print(result.groupby('label').count().drop_duplicates(['count']).count())\n",
    "# print(result.groupby('label').count().count())\n",
    "# result.count()\n",
    "# vertices.distinct().count()"
   ]
  },
  {
   "cell_type": "code",
   "execution_count": null,
   "metadata": {},
   "outputs": [],
   "source": [
    "# np.unique()\n",
    "result.groupby('label').count().withColumnRenamed('count', 'community_size').groupby('community_size').count().orderBy(\"community_size\", ascending=True).show()\n",
    "result.groupby('label').count().withColumnRenamed('count', 'community_size').groupby('community_size').count().orderBy(\"community_size\", ascending=False).show()\n",
    "result.filter('label==386547056837').show(truncate=False)"
   ]
  },
  {
   "cell_type": "code",
   "execution_count": null,
   "metadata": {},
   "outputs": [],
   "source": [
    "start_time = time.time()\n",
    "cc10 = graph10.connectedComponents()\n",
    "print(time.time() - start_time)\n",
    "cc20 = graph20.connectedComponents()\n",
    "print(time.time() - start_time)"
   ]
  },
  {
   "cell_type": "code",
   "execution_count": null,
   "metadata": {},
   "outputs": [],
   "source": [
    "start_time = time.time()\n",
    "scc10 = graph10.stronglyConnectedComponents(maxIter=10)\n",
    "print(time.time() - start_time)\n",
    "scc20 = graph20.stronglyConnectedComponents(maxIter=10)\n",
    "print(time.time() - start_time)"
   ]
  },
  {
   "cell_type": "code",
   "execution_count": 114,
   "metadata": {},
   "outputs": [
    {
     "name": "stdout",
     "output_type": "stream",
     "text": [
      "+------------+-----+\n",
      "|       label|count|\n",
      "+------------+-----+\n",
      "|386547056837|  362|\n",
      "+------------+-----+\n",
      "\n"
     ]
    }
   ],
   "source": []
  },
  {
   "cell_type": "code",
   "execution_count": 115,
   "metadata": {},
   "outputs": [
    {
     "name": "stdout",
     "output_type": "stream",
     "text": [
      "+--------+------------------------------------+------------+\n",
      "|id      |name                                |label       |\n",
      "+--------+------------------------------------+------------+\n",
      "|650d9a6d|hadt.ru                             |386547056837|\n",
      "|be3941d6|mmonix.ru                           |386547056837|\n",
      "|858e80aa|gamersofelements.de                 |386547056837|\n",
      "|03875694|ejms.kejari-berau.go.id             |386547056837|\n",
      "|79192b35|bbs.missionbayseafood.co.nz         |386547056837|\n",
      "|fe8cefa5|blaulichtforum.at                   |386547056837|\n",
      "|7e66855a|bb.zdenekskulinek.cz                |386547056837|\n",
      "|b13ac782|clubber.co.uk                       |386547056837|\n",
      "|4982c708|forum.lekhzena.tn                   |386547056837|\n",
      "|58bc1672|ishahe.net                          |386547056837|\n",
      "|60f59818|yarnews163.ru                       |386547056837|\n",
      "|35206781|coinping.co                         |386547056837|\n",
      "|f3bce3af|bestcity.if.ua                      |386547056837|\n",
      "|715fdae8|forum.marycoin.org                  |386547056837|\n",
      "|7787fae9|keralalives.in                      |386547056837|\n",
      "|1da57f9a|foroqueratocono.org                 |386547056837|\n",
      "|3cd38ef1|forum.bloodmoon.fr                  |386547056837|\n",
      "|fd789c1c|fromthegut.org                      |386547056837|\n",
      "|99d29d81|ikeynote.cn                         |386547056837|\n",
      "|a48c91c4|tiktokfollowersandfans2020.bloger.id|386547056837|\n",
      "+--------+------------------------------------+------------+\n",
      "only showing top 20 rows\n",
      "\n"
     ]
    }
   ],
   "source": []
  },
  {
   "cell_type": "code",
   "execution_count": null,
   "metadata": {},
   "outputs": [],
   "source": [
    "def indegree(dataframe, website=['twitter.com'], sizes=[1,2,3]):\n",
    "    '''input: dataframe, list: websites tlds; list: number of files\n",
    "       output: dataframe\n",
    "+------------+--------+---------------------------+\n",
    "|website     |size_1  |sizs_2    |sizse_3             |\n",
    "+------------+--------+---------------------------+\n",
    "|twitter.com |1       | 100      |\n",
    "|05f4dd35    |1       |          |\n",
    "|033e4ad5    |1       |          |\n",
    "|00615816    |1       |          |\n",
    "|034274db    |1       |          |\n",
    "+-------------+--------+---------------------------+\n",
    "    '''\n",
    "    return None"
   ]
  },
  {
   "cell_type": "code",
   "execution_count": null,
   "metadata": {},
   "outputs": [],
   "source": [
    "indegree([2,4,8,16,32,64,128,256,512,1024])"
   ]
  },
  {
   "cell_type": "code",
   "execution_count": null,
   "metadata": {},
   "outputs": [],
   "source": [
    "indegree_df = indegree(df, ['twitter.com', 'baidu,com', 'google'], [2,4,8,16])\n",
    "indegree_df.show()"
   ]
  },
  {
   "cell_type": "code",
   "execution_count": null,
   "metadata": {},
   "outputs": [],
   "source": [
    "def outdegree(dataframe, website=['twitter.com'], sizes=[1,2,3]):\n",
    "    '''input: dataframe, list: websites tlds; list: number of files\n",
    "       output: dataframe\n",
    "+------------+--------+---------------------------+\n",
    "|website     |size_1  |sizs_2    |  sizse_3             |\n",
    "+------------+--------+---------------------------+\n",
    "|twitter.com |1       | 100      |\n",
    "|05f4dd35    |1       |          |\n",
    "|033e4ad5    |1       |          |\n",
    "|00615816    |1       |          |\n",
    "|034274db    |1       |          |\n",
    "+------------+--------+---------------------------+\n",
    "    '''\n",
    "    return None"
   ]
  },
  {
   "cell_type": "code",
   "execution_count": null,
   "metadata": {},
   "outputs": [],
   "source": [
    "def connected_components(dataframe, sizes=[1,2,3]):\n",
    "    '''input: dataframe, list: number of files\n",
    "       output: dataframe\n",
    "+------------+--------+---------------------------+\n",
    "|size        |number of componemts  |sizs_2    |  sizse_3             |\n",
    "+------------+--------+---------------------------+\n",
    "|1           |1                     | 100      |\n",
    "|2           |1                     |          |\n",
    "|3           |1                     |          |\n",
    "\n",
    "    '''\n",
    "    return None"
   ]
  },
  {
   "cell_type": "code",
   "execution_count": null,
   "metadata": {},
   "outputs": [],
   "source": [
    "def analyze_graph(path='test', size=[2,4,8,16]):\n",
    "    d = {}\n",
    "    \n",
    "    d['indeg_df']  = indegree(size=size)\n",
    "    d['ourdeg_df'] = outdegree(size=size)\n",
    "    d['cc'] = connected_components(size=size)\n",
    "    \n",
    "    return d"
   ]
  },
  {
   "cell_type": "code",
   "execution_count": 6,
   "metadata": {},
   "outputs": [
    {
     "data": {
      "text/plain": [
       "DataFrame[_c0: string, _c1: string]"
      ]
     },
     "execution_count": 6,
     "metadata": {},
     "output_type": "execute_result"
    }
   ],
   "source": [
    "df.cache()"
   ]
  },
  {
   "cell_type": "code",
   "execution_count": 4,
   "metadata": {},
   "outputs": [
    {
     "name": "stdout",
     "output_type": "stream",
     "text": [
      "+---------+-----------------+\n",
      "|      _c0|              _c1|\n",
      "+---------+-----------------+\n",
      "|002104.cn|    hd.hstong.com|\n",
      "|002104.cn|   stock.stcn.com|\n",
      "|002104.cn|  upload.stcn.com|\n",
      "|002104.cn|  upload.stcn.com|\n",
      "|002104.cn|  upload.stcn.com|\n",
      "|002104.cn|  upload.stcn.com|\n",
      "|002446.cn|    hd.hstong.com|\n",
      "|003145.cn|qile.qiquting.com|\n",
      "|003145.cn|qile.qiquting.com|\n",
      "|003991.cn|qile.qiquting.com|\n",
      "+---------+-----------------+\n",
      "only showing top 10 rows\n",
      "\n"
     ]
    }
   ],
   "source": [
    "df.show(10)"
   ]
  },
  {
   "cell_type": "code",
   "execution_count": 8,
   "metadata": {},
   "outputs": [
    {
     "name": "stdout",
     "output_type": "stream",
     "text": [
      "root\n",
      " |-- _c0: string (nullable = true)\n",
      " |-- _c1: string (nullable = true)\n",
      "\n"
     ]
    }
   ],
   "source": [
    "df.printSchema()"
   ]
  },
  {
   "cell_type": "code",
   "execution_count": 7,
   "metadata": {},
   "outputs": [
    {
     "data": {
      "text/plain": [
       "3678351"
      ]
     },
     "execution_count": 7,
     "metadata": {},
     "output_type": "execute_result"
    }
   ],
   "source": [
    "df.count()"
   ]
  },
  {
   "cell_type": "code",
   "execution_count": 8,
   "metadata": {},
   "outputs": [],
   "source": []
  },
  {
   "cell_type": "code",
   "execution_count": 9,
   "metadata": {},
   "outputs": [
    {
     "name": "stdout",
     "output_type": "stream",
     "text": [
      "+---------------+------------------+\n",
      "|      parentTLD|          childTLD|\n",
      "+---------------+------------------+\n",
      "|24hourebook.com|       jlsl.gov.cn|\n",
      "|   350.xn--p1ai|   connect.mail.ru|\n",
      "|   350.xn--p1ai|zakladki.yandex.ru|\n",
      "|        363v.cn|      pk105555.com|\n",
      "|      87nara.kr|       iampine.com|\n",
      "+---------------+------------------+\n",
      "only showing top 5 rows\n",
      "\n"
     ]
    }
   ],
   "source": [
    "\n",
    "df.show(5)"
   ]
  },
  {
   "cell_type": "code",
   "execution_count": 16,
   "metadata": {},
   "outputs": [
    {
     "data": {
      "text/plain": [
       "904373"
      ]
     },
     "execution_count": 16,
     "metadata": {},
     "output_type": "execute_result"
    }
   ],
   "source": [
    "df.count()"
   ]
  },
  {
   "cell_type": "code",
   "execution_count": 13,
   "metadata": {},
   "outputs": [
    {
     "data": {
      "text/plain": [
       "['바로잡기.com',\n",
       " '무지안내.net',\n",
       " '맥가이버피아노.com',\n",
       " '라포끌레르.kr',\n",
       " '더풋샵.net',\n",
       " '나로.한국',\n",
       " '강원곳간.com',\n",
       " '非常靠谱.com',\n",
       " '陕西文化网.中国',\n",
       " '陕西文化网.com']"
      ]
     },
     "execution_count": 13,
     "metadata": {},
     "output_type": "execute_result"
    }
   ],
   "source": [
    "\n",
    "print(aggcodes.count())\n",
    "aggcodes.top(10)"
   ]
  },
  {
   "cell_type": "code",
   "execution_count": 14,
   "metadata": {},
   "outputs": [],
   "source": []
  },
  {
   "cell_type": "code",
   "execution_count": 15,
   "metadata": {},
   "outputs": [
    {
     "name": "stdout",
     "output_type": "stream",
     "text": [
      "+--------+--------------------+\n",
      "|      id|                name|\n",
      "+--------+--------------------+\n",
      "|64810973|img514.imageshack.us|\n",
      "|465806fb|         twitter.com|\n",
      "|247e1a71|  beautifulshoes.org|\n",
      "|5584fcd3|guccihandbagsoutl...|\n",
      "|09651082|       bufengcong.cn|\n",
      "+--------+--------------------+\n",
      "only showing top 5 rows\n",
      "\n"
     ]
    }
   ],
   "source": []
  },
  {
   "cell_type": "code",
   "execution_count": 18,
   "metadata": {},
   "outputs": [
    {
     "name": "stdout",
     "output_type": "stream",
     "text": [
      "+--------+--------+\n",
      "|     src|     dst|\n",
      "+--------+--------+\n",
      "|a955fc5f|ec156376|\n",
      "|2b778455|b1045852|\n",
      "|2b778455|a49aa74f|\n",
      "|e8b6308e|ebd38990|\n",
      "|b0451246|3fcdbfdc|\n",
      "+--------+--------+\n",
      "only showing top 5 rows\n",
      "\n"
     ]
    }
   ],
   "source": [
    "\n",
    "\n",
    "edges.show(5)"
   ]
  },
  {
   "cell_type": "code",
   "execution_count": 19,
   "metadata": {},
   "outputs": [],
   "source": []
  },
  {
   "cell_type": "code",
   "execution_count": 20,
   "metadata": {},
   "outputs": [
    {
     "name": "stdout",
     "output_type": "stream",
     "text": [
      "+--------+--------------------+\n",
      "|      id|                name|\n",
      "+--------+--------------------+\n",
      "|64810973|img514.imageshack.us|\n",
      "|465806fb|         twitter.com|\n",
      "|247e1a71|  beautifulshoes.org|\n",
      "|5584fcd3|guccihandbagsoutl...|\n",
      "|09651082|       bufengcong.cn|\n",
      "+--------+--------------------+\n",
      "only showing top 5 rows\n",
      "\n",
      "+--------+--------+\n",
      "|     src|     dst|\n",
      "+--------+--------+\n",
      "|a955fc5f|ec156376|\n",
      "|2b778455|b1045852|\n",
      "|2b778455|a49aa74f|\n",
      "|e8b6308e|ebd38990|\n",
      "|b0451246|3fcdbfdc|\n",
      "+--------+--------+\n",
      "only showing top 5 rows\n",
      "\n"
     ]
    }
   ],
   "source": [
    "graph.vertices.show(5)\n",
    "graph.edges.show(5)"
   ]
  },
  {
   "cell_type": "code",
   "execution_count": 22,
   "metadata": {},
   "outputs": [
    {
     "name": "stdout",
     "output_type": "stream",
     "text": [
      "+--------+--------+---------------------------+\n",
      "|id      |inDegree|name                       |\n",
      "+--------+--------+---------------------------+\n",
      "|03111be4|1       |bigjeans.co.kr             |\n",
      "|05f4dd35|1       |kitp.ucsb.edu              |\n",
      "|033e4ad5|1       |livefutbol.com             |\n",
      "|00615816|1       |weekendhotel.blog          |\n",
      "|034274db|1       |vusurscene.com             |\n",
      "|0088f064|1       |topfreizeit.de             |\n",
      "|035a0f78|1       |donemd.cn                  |\n",
      "|00ade0f6|1       |printshop.co.kr            |\n",
      "|05d51afe|1       |ehiln67n99.353qt.cn        |\n",
      "|0380adbc|1       |kaatru.in                  |\n",
      "|00bf6f09|1       |hg8868fdzs71.cn.com        |\n",
      "|03ac6afd|1       |nmyk.kingdns.in            |\n",
      "|0133f1a7|1       |qualitywellnessresorts.nl  |\n",
      "|03fdc338|1       |sarquest.ru                |\n",
      "|01804c23|1       |dosenhor.com               |\n",
      "|0404cf3e|1       |167.114.119.122:9676       |\n",
      "|019a4650|1       |silkroomthailand.com       |\n",
      "|04128bf0|1       |openparachute.wordpress.com|\n",
      "|0248f651|1       |koppertbio.de              |\n",
      "|044e6432|1       |cermi.eu                   |\n",
      "+--------+--------+---------------------------+\n",
      "only showing top 20 rows\n",
      "\n"
     ]
    }
   ],
   "source": [
    "graph.inDegrees.join(vertices, on=\"id\")\\\n",
    ".orderBy(\"inDegree\", ascending=False).show(20, False)\n",
    "graph.outDegrees.join(vertices, on=\"id\")\\\n",
    ".orderBy(\"outDegree\", ascending=False).show(20, False)"
   ]
  },
  {
   "cell_type": "code",
   "execution_count": 35,
   "metadata": {},
   "outputs": [
    {
     "name": "stdout",
     "output_type": "stream",
     "text": [
      "+-----------+------+\n",
      "|  component| count|\n",
      "+-----------+------+\n",
      "|          0|459137|\n",
      "|        116|  3499|\n",
      "|       1064|   982|\n",
      "|         75|   622|\n",
      "|       1387|   519|\n",
      "|        732|   451|\n",
      "|        339|   335|\n",
      "|       2349|   308|\n",
      "|       1238|   277|\n",
      "|        184|   244|\n",
      "|        516|   241|\n",
      "| 8589936039|   239|\n",
      "|        856|   228|\n",
      "|       2061|   226|\n",
      "|       2398|   226|\n",
      "|       1301|   180|\n",
      "| 8589934891|   178|\n",
      "|       2506|   172|\n",
      "|       1666|   168|\n",
      "|34359739686|   135|\n",
      "+-----------+------+\n",
      "only showing top 20 rows\n",
      "\n"
     ]
    }
   ],
   "source": [
    "# result = graph.connectedComponents()\n",
    "result.select(\"id\", \"component\").groupby('component').count().orderBy(\"count\", ascending=False).show()"
   ]
  },
  {
   "cell_type": "code",
   "execution_count": null,
   "metadata": {},
   "outputs": [],
   "source": []
  },
  {
   "cell_type": "code",
   "execution_count": 36,
   "metadata": {},
   "outputs": [
    {
     "name": "stdout",
     "output_type": "stream",
     "text": [
      "+--------+---------+\n",
      "|      id|component|\n",
      "+--------+---------+\n",
      "|002c9569|        0|\n",
      "|008c2d9c|        1|\n",
      "|00927e3f|        2|\n",
      "|00947a5b|        3|\n",
      "|00acfdcd|        4|\n",
      "|00ad5293|        5|\n",
      "|00c6dae1|        6|\n",
      "|00d7cab4|        7|\n",
      "|010b6f81|        8|\n",
      "|010ba2b9|        9|\n",
      "|014f3a50|       10|\n",
      "|01703f81|       11|\n",
      "|0191598e|       12|\n",
      "|01bc71ce|       13|\n",
      "|01c087cc|       14|\n",
      "|01d4353c|       15|\n",
      "|01dfa2cd|       16|\n",
      "|0227d662|       17|\n",
      "|02341045|       18|\n",
      "|0241ee58|       19|\n",
      "+--------+---------+\n",
      "only showing top 20 rows\n",
      "\n"
     ]
    }
   ],
   "source": [
    "result2 = graph.stronglyConnectedComponents(maxIter=10)\n",
    "result2.select(\"id\", \"component\").orderBy(\"component\").show()"
   ]
  },
  {
   "cell_type": "code",
   "execution_count": null,
   "metadata": {},
   "outputs": [],
   "source": [
    "result3 = g.labelPropagation(maxIter=5)\n",
    "result4.select(\"id\", \"label\").show()"
   ]
  },
  {
   "cell_type": "code",
   "execution_count": null,
   "metadata": {},
   "outputs": [],
   "source": [
    "results = g.pageRank(resetProbability=0.15, tol=0.01)\n",
    "results.vertices.select(\"id\", \"pagerank\").show()\n",
    "results.edges.select(\"src\", \"dst\", \"weight\").show()"
   ]
  },
  {
   "cell_type": "code",
   "execution_count": 1,
   "metadata": {},
   "outputs": [
    {
     "ename": "NameError",
     "evalue": "name 'spark' is not defined",
     "output_type": "error",
     "traceback": [
      "\u001b[0;31m---------------------------------------------------------------------------\u001b[0m",
      "\u001b[0;31mNameError\u001b[0m                                 Traceback (most recent call last)",
      "\u001b[0;32m<ipython-input-1-5c6b4d5d9db0>\u001b[0m in \u001b[0;36m<module>\u001b[0;34m\u001b[0m\n\u001b[0;32m----> 1\u001b[0;31m \u001b[0mspark\u001b[0m\u001b[0;34m.\u001b[0m\u001b[0mstop\u001b[0m\u001b[0;34m(\u001b[0m\u001b[0;34m)\u001b[0m\u001b[0;34m\u001b[0m\u001b[0;34m\u001b[0m\u001b[0m\n\u001b[0m",
      "\u001b[0;31mNameError\u001b[0m: name 'spark' is not defined"
     ]
    }
   ],
   "source": [
    "spark.stop()"
   ]
  },
  {
   "cell_type": "code",
   "execution_count": null,
   "metadata": {},
   "outputs": [],
   "source": []
  }
 ],
 "metadata": {
  "kernelspec": {
   "display_name": "Python 3",
   "language": "python",
   "name": "python3"
  },
  "language_info": {
   "codemirror_mode": {
    "name": "ipython",
    "version": 3
   },
   "file_extension": ".py",
   "mimetype": "text/x-python",
   "name": "python",
   "nbconvert_exporter": "python",
   "pygments_lexer": "ipython3",
   "version": "3.7.6"
  }
 },
 "nbformat": 4,
 "nbformat_minor": 4
}
